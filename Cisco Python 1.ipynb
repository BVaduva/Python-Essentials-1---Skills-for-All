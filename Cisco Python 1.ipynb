{
 "cells": [
  {
   "cell_type": "markdown",
   "id": "dfd4c11f",
   "metadata": {},
   "source": [
    "# Online Python debugger\n",
    "\n",
    "### https://pythontutor.com/render.html#mode=display"
   ]
  },
  {
   "cell_type": "code",
   "execution_count": null,
   "id": "330b8728",
   "metadata": {},
   "outputs": [],
   "source": [
    "Code to adjust size of images\n",
    "<div>\n",
    "<img src=\"attachment:image.png\" width=\"500\"/>\n",
    "</div>"
   ]
  },
  {
   "cell_type": "markdown",
   "id": "71b45aa4",
   "metadata": {},
   "source": [
    "### Current time and will-be time after given time"
   ]
  },
  {
   "cell_type": "code",
   "execution_count": null,
   "id": "5b7615a5",
   "metadata": {},
   "outputs": [],
   "source": [
    "hour = int(input(\"Starting time (hours): \"))\n",
    "mins = int(input(\"Starting time (minutes): \"))\n",
    "dura = int(input(\"Event duration (minutes): \"))\n",
    "mins = mins + dura # find a total of all minutes\n",
    "hour = hour + mins // 60 # find a number of hours hidden in minutes and update the hour\n",
    "mins = mins % 60 # correct minutes to fall in the (0..59) range\n",
    "hour = hour % 24 # correct hours to fall in the (0..23) range\n",
    "print(hour, \":\", mins, sep='')"
   ]
  },
  {
   "cell_type": "markdown",
   "id": "a929d7cf",
   "metadata": {},
   "source": [
    "### Timers"
   ]
  },
  {
   "cell_type": "code",
   "execution_count": null,
   "id": "178a419e",
   "metadata": {},
   "outputs": [],
   "source": [
    "hour = 12\n",
    "minute = 17\n",
    "duration = 59\n",
    "\n",
    "#Increase the hour if minute+duration go above 60. +1 per 60\n",
    "plus_hours = (duration + minute) // 60\n",
    "\n",
    "#Adjust the minute, when going above 60 minutes\n",
    "minute = (duration + minute) % 60 \n",
    "minute = abs(minute)\n",
    "\n",
    "hour = hour % 24\n",
    "\n",
    "print(n)\n",
    "print(f\"{hour}:{minute}\")"
   ]
  },
  {
   "cell_type": "markdown",
   "id": "119f029b",
   "metadata": {},
   "source": [
    "### Find the biggest number. Intro to \"max\" function"
   ]
  },
  {
   "cell_type": "code",
   "execution_count": null,
   "id": "f527203e",
   "metadata": {},
   "outputs": [],
   "source": [
    "# Read three numbers.\n",
    "number1 = int(input(\"Enter the first number: \"))\n",
    "number2 = int(input(\"Enter the second number: \"))\n",
    "number3 = int(input(\"Enter the third number: \"))\n",
    "\n",
    "# Check which one of the numbers is the greatest\n",
    "# and pass it to the largest_number variable.\n",
    "\n",
    "largest_number = max(number1, number2, number3)\n",
    "\n",
    "# Print the result.\n",
    "print(\"The largest number is:\", largest_number)\n",
    "\n"
   ]
  },
  {
   "cell_type": "markdown",
   "id": "dd3dd348",
   "metadata": {},
   "source": [
    "### Console reply based on input text"
   ]
  },
  {
   "cell_type": "code",
   "execution_count": null,
   "id": "6866ca56",
   "metadata": {},
   "outputs": [],
   "source": [
    "text = input(\"Best plant?: \")\n",
    "\n",
    "if text == \"Spathiphyllum\":\n",
    "    print(\"Yes - Spathiphyllum is the best plant ever!\")\n",
    "    \n",
    "elif text == \"spathiphyllum\":\n",
    "    print(\"No, I want a big Spathiphyllum!\")\n",
    "    \n",
    "else:\n",
    "    print(f\"Spathiphyllum! Not {text}!\")"
   ]
  },
  {
   "cell_type": "markdown",
   "id": "881b59ec",
   "metadata": {},
   "source": [
    "### Tax calculator"
   ]
  },
  {
   "cell_type": "code",
   "execution_count": null,
   "id": "cb4be2d4",
   "metadata": {},
   "outputs": [],
   "source": [
    "income = float(input(\"Put in your income: \"))\n",
    "tax_break = 85528\n",
    "poor_tax = 556.02\n",
    "rich_tax = 14839.02\n",
    "tax = 0\n",
    "\n",
    "if income <= tax_break:\n",
    "    tax = (income*0.18) - poor_tax\n",
    "    \n",
    "else:\n",
    "    tax = income - tax_break\n",
    "    tax *= 0.32\n",
    "    tax += rich_tax\n",
    "    \n",
    "if tax > 0.0:\n",
    "    tax = 0.0\n",
    "\n",
    "print(f\"The tax is: {round(tax)} thalers\")\n",
    "        "
   ]
  },
  {
   "cell_type": "markdown",
   "id": "fea2de04",
   "metadata": {},
   "source": [
    "### Lap or common year calculator"
   ]
  },
  {
   "cell_type": "code",
   "execution_count": null,
   "id": "d8a74104",
   "metadata": {},
   "outputs": [],
   "source": [
    "year = int(input(\"Enter a year: \"))\n",
    "\n",
    "if year < 1582:\n",
    "    print(\"Not within the Gregorian calendar period\")\n",
    "else:\n",
    "    if year % 4 != 0 and year % 400 != 0:\n",
    "        print(f\"{year} is a common year.\")\n",
    "    elif year % 100 != 0:\n",
    "        print(f\"{year} is a leap year.\")\n",
    "    else:\n",
    "        print(f\"{year} is a leap year.\")"
   ]
  },
  {
   "cell_type": "markdown",
   "id": "d1982803",
   "metadata": {},
   "source": [
    "### Store the current largest number"
   ]
  },
  {
   "cell_type": "code",
   "execution_count": null,
   "id": "c956ffab",
   "metadata": {},
   "outputs": [],
   "source": [
    "largest_number = -999999999\n",
    "\n",
    "# Input the first value.\n",
    "number = int(input(\"Enter a number or type -1 to stop: \"))\n",
    "\n",
    "# If the number is not equal to -1, continue.\n",
    "while number != -1:\n",
    "    # Is number larger than largest_number?\n",
    "    if number > largest_number:\n",
    "        # Yes, update largest_number.\n",
    "        largest_number = number\n",
    "    # Input the next number.\n",
    "    number = int(input(\"Enter a number or type -1 to stop: \"))\n",
    "\n",
    "# Print the largest number.\n",
    "print(\"The largest number is:\", largest_number)\n",
    "\n"
   ]
  },
  {
   "cell_type": "markdown",
   "id": "03a39d6e",
   "metadata": {},
   "source": [
    "### Guess the number"
   ]
  },
  {
   "cell_type": "code",
   "execution_count": null,
   "id": "5b34af44",
   "metadata": {},
   "outputs": [],
   "source": [
    "secret_number = 777\n",
    "\n",
    "print(\n",
    "        \"\"\"\n",
    "        +================================+\n",
    "        | Welcome to my game, muggle!    |\n",
    "        | Enter an integer number        |\n",
    "        | and guess what number I've     |\n",
    "        | picked for you.                |\n",
    "        | So, what is the secret number? |\n",
    "        +================================+\n",
    "        \"\"\")\n",
    "\n",
    "guess = int(input())\n",
    "\n",
    "while guess != secret_number:\n",
    "    print(\n",
    "        \"\"\"\n",
    "        +================================+\n",
    "        |Ha ha! You're stuck in my loop! |\n",
    "        +================================+\n",
    "        \"\"\")\n",
    "    guess = int(input())\n",
    "    \n",
    "    if guess == secret_number:\n",
    "        print(\n",
    "        \"\"\"\n",
    "        +====================================+\n",
    "        |Well done, muggle! You are free now |\n",
    "        +====================================+\n",
    "        \"\"\")"
   ]
  },
  {
   "cell_type": "markdown",
   "id": "32c15288",
   "metadata": {},
   "source": [
    "### Seconds counter"
   ]
  },
  {
   "cell_type": "code",
   "execution_count": null,
   "id": "2d69298c",
   "metadata": {},
   "outputs": [],
   "source": [
    "import time\n",
    "\n",
    "# Write a for loop that counts to five.\n",
    "for seconds in range(1, 6):\n",
    "    # Body of the loop - print the loop iteration number and the word \"Mississippi\".\n",
    "    print(f\"{seconds} Mississippi\")\n",
    "    time.sleep(1) \n",
    "\n",
    "# Write a print function with the final message.\n",
    "print(\"Ready or not, here I come!\")"
   ]
  },
  {
   "cell_type": "markdown",
   "id": "0918089f",
   "metadata": {},
   "source": [
    "### Understanding 'break' and 'continue' in loops"
   ]
  },
  {
   "cell_type": "code",
   "execution_count": null,
   "id": "1a90f64a",
   "metadata": {},
   "outputs": [],
   "source": [
    "# break - example\n",
    "\n",
    "print(\"The break instruction:\")\n",
    "for i in range(1, 6):\n",
    "    if i == 3:\n",
    "        break\n",
    "    print(\"Inside the loop.\", i)\n",
    "print(\"Outside the loop.\")\n",
    "\n",
    "# continue - example\n",
    "\n",
    "print(\"\\nThe continue instruction:\")\n",
    "for i in range(1, 6):\n",
    "    if i == 3:\n",
    "        continue\n",
    "    print(\"Inside the loop.\", i)\n",
    "print(\"Outside the loop.\")"
   ]
  },
  {
   "cell_type": "markdown",
   "id": "9c1213ba",
   "metadata": {},
   "source": [
    "### Remove Vowels\n",
    "\n",
    "    Strings in Python are immutable. So a new string has to be created.\n",
    "    Rather than removing vowels, we take all non-vowels, and copy them into a new string."
   ]
  },
  {
   "cell_type": "code",
   "execution_count": null,
   "id": "26b44fbd",
   "metadata": {},
   "outputs": [],
   "source": [
    "# Prompt the user to enter a word\n",
    "user_word = input(\"Enter a word. I'll eat its vowels! \")\n",
    "# and assign it to the user_word variable.\n",
    "user_word = user_word.upper()\n",
    "# set an empty string to copy into\n",
    "no_vowels = \"\"\n",
    "\n",
    "for letter in user_word:\n",
    "    # Complete the body of the for loop.\n",
    "    if letter not in [\"A\", \"E\", \"I\", \"O\", \"U\"]:\n",
    "        no_vowels += letter + \"\\n\"\n",
    "        \n",
    "print(no_vowels)"
   ]
  },
  {
   "cell_type": "code",
   "execution_count": null,
   "id": "b7bb9f4f",
   "metadata": {},
   "outputs": [],
   "source": [
    "# with continue method\n",
    "word_without_vowels = \"\"\n",
    "\n",
    "# Prompt the user to enter a word\n",
    "user_word = input(\"Enter a word. I'll eat its vowels! \")\n",
    "# and assign it to the user_word variable.\n",
    "user_word = user_word.upper()\n",
    "\n",
    "for letter in user_word:\n",
    "    # Complete the body of the loop.\n",
    "    if letter in [\"A\", \"E\", \"I\", \"O\", \"U\"]:\n",
    "        continue\n",
    "    else:\n",
    "        word_without_vowels += letter\n",
    "\n",
    "# Print the word assigned to word_without_vowels.\n",
    "print(word_without_vowels)"
   ]
  },
  {
   "cell_type": "markdown",
   "id": "5baa8bd3",
   "metadata": {},
   "source": [
    "### Measure the height of a pyramid by asking for the number of blocks"
   ]
  },
  {
   "cell_type": "code",
   "execution_count": null,
   "id": "df92cb35",
   "metadata": {},
   "outputs": [],
   "source": [
    "blocks = int(input(\"How many blocks do you have? \"))\n",
    "height = 0\n",
    "used_blocks = 0\n",
    "\n",
    "while used_blocks < blocks:\n",
    "    used_blocks += 1\n",
    "    blocks -= used_blocks\n",
    "    height += 1\n",
    "\n",
    "print(\"The height of the pyramid:\", height)"
   ]
  },
  {
   "cell_type": "markdown",
   "id": "baeeb623",
   "metadata": {},
   "source": [
    "### Collatz calculator"
   ]
  },
  {
   "cell_type": "code",
   "execution_count": null,
   "id": "499014d8",
   "metadata": {},
   "outputs": [],
   "source": [
    "n = int(input(\"Enter an integer number: \"))\n",
    "counter = 0\n",
    "\n",
    "while n != 1:\n",
    "    if n % 2 == 0:\n",
    "        n = n / 2\n",
    "    else:\n",
    "        n = 3 * n + 1\n",
    "    counter += 1\n",
    "    print(round(n))\n",
    "print(f\"steps = {counter}\")"
   ]
  },
  {
   "cell_type": "markdown",
   "id": "9016e918",
   "metadata": {},
   "source": [
    "### Starting of lists"
   ]
  },
  {
   "cell_type": "code",
   "execution_count": null,
   "id": "cd8d23cc",
   "metadata": {},
   "outputs": [],
   "source": [
    "#for v in my_list_1:\n",
    "\n",
    "#This loop iterates directly over the elements of my_list_1. For each iteration, \n",
    "# v takes on the value of the current element in the list.\n",
    "\n",
    "my_list_1 = [1, 2, 3, 4]\n",
    "for v in my_list_1:\n",
    "    print(v)\n",
    "#Output\n",
    "#1\n",
    "#2\n",
    "#3\n",
    "#4\n",
    "\n",
    "###\n",
    "\n",
    "# for v in range(len(my_list_1)):\n",
    "\n",
    "# This loop uses range(len(my_list_1)) to generate indices from 0 to len(my_list_1) - 1. \n",
    "# It then iterates over these indices, and for each iteration, v takes on the value of the index, not the element itself.\n",
    "\n",
    "my_list_1 = [1, 2, 3, 4]\n",
    "for v in range(len(my_list_1)):\n",
    "    print(v)\n",
    "#Output\n",
    "#0\n",
    "#1\n",
    "#2\n",
    "#3"
   ]
  },
  {
   "cell_type": "code",
   "execution_count": null,
   "id": "5b248dd0",
   "metadata": {},
   "outputs": [],
   "source": [
    "numbers = [10, 5, 7, 2, 1]\n",
    "print(\"Original list contents:\", numbers)  # Printing original list contents.\n",
    "\n",
    "print(\"List length:\", len(numbers))  # Printing the list's length.\n",
    " \n",
    "numbers[0] = 111\n",
    "print(\"\\nNew list contents: \", numbers)  # Current list contents.\n",
    "\n",
    "numbers[1] = numbers[4]  # Copying value of the fifth element to the second.\n",
    "print(\"Copied index 4 to 1:\", numbers)  # Printing current list contents.\n",
    "\n",
    "del numbers[1]\n",
    "print(f\"\\nNew length after del [1]: {len(numbers)}\")\n",
    "print(numbers)\n",
    "\n",
    "print(numbers[-1]) #prints the last indexed element of 'numbers'"
   ]
  },
  {
   "cell_type": "code",
   "execution_count": null,
   "id": "d80b88ba",
   "metadata": {},
   "outputs": [],
   "source": [
    "hat_list = [1, 2, 3, 4, 5]  # This is an existing list of numbers hidden in the hat.\n",
    "\n",
    "# Step 1: write a line of code that prompts the user\n",
    "# to replace the middle number with an integer number entered by the user.\n",
    "hat_list[2] = int(input(\"Enter a integer number: \"))\n",
    "\n",
    "# Step 2: write a line of code that removes the last element from the list.\n",
    "del hat_list[-1]\n",
    "\n",
    "# Step 3: write a line of code that prints the length of the existing list.\n",
    "print(len(hat_list))\n",
    "\n",
    "print(hat_list)\n"
   ]
  },
  {
   "cell_type": "markdown",
   "id": "ccaa70bf",
   "metadata": {},
   "source": [
    "### Adding elements to a list: append() and insert()\n",
    "```python\n",
    "list.append(value); # added to the end of a list\n",
    "list.insert(location, value); # added to a specific location in the list\n",
    "```"
   ]
  },
  {
   "cell_type": "code",
   "execution_count": null,
   "id": "c07675b4",
   "metadata": {},
   "outputs": [],
   "source": [
    "numbers = [111, 7, 2, 1]\n",
    "print(len(numbers))\n",
    "print(numbers)\n",
    "\n",
    "###\n",
    "\n",
    "numbers.append(4)\n",
    "\n",
    "print(len(numbers))\n",
    "print(numbers)\n",
    "\n",
    "###\n",
    "\n",
    "numbers.insert(0, 222)\n",
    "print(len(numbers))\n",
    "print(numbers)\n",
    "\n",
    "###\n",
    "\n",
    "numbers.insert(1, 333)\n",
    "\n",
    "###\n",
    "\n",
    "my_list = []  # Creating an empty list.\n",
    "\n",
    "for i in range(5): #up to but not including 5, so 0,1,2,3,4th positions\n",
    "    my_list.append(i + 1)\n",
    "\n",
    "print(my_list)\n",
    "\n",
    "###\n",
    "\n",
    "my_list = []  # Creating an empty list.\n",
    " \n",
    "for i in range(5):\n",
    "    my_list.insert(0, i + 1) # insert here adds the new value always to the 0th position, so pushing elements to the right\n",
    " \n",
    "print(my_list)"
   ]
  },
  {
   "cell_type": "markdown",
   "id": "cd2b797f",
   "metadata": {},
   "source": [
    "### Making use of lists"
   ]
  },
  {
   "cell_type": "code",
   "execution_count": null,
   "id": "4c38516d",
   "metadata": {},
   "outputs": [],
   "source": [
    "my_list = [10, 1, 8, 3, 5]\n",
    "total = 0\n",
    "\n",
    "for i in range(len(my_list)):\n",
    "    total += my_list[i] # calculate the sum of the values in the list\n",
    "\n",
    "print(total)\n",
    "\n",
    "###\n",
    "\n",
    "#does exactly the same but simpler syntax\n",
    "my_list = [10, 1, 8, 3, 5]\n",
    "total = 0\n",
    " \n",
    "for i in my_list:\n",
    "    total += i\n",
    " \n",
    "print(total)"
   ]
  },
  {
   "cell_type": "markdown",
   "id": "c4fac5f3",
   "metadata": {},
   "source": [
    "### swapping values is elegant in Python"
   ]
  },
  {
   "cell_type": "code",
   "execution_count": null,
   "id": "b85039cf",
   "metadata": {},
   "outputs": [],
   "source": [
    "variable_1 = 1\n",
    "variable_2 = 2\n",
    "\n",
    "variable_1, variable_2 = variable_2, variable_1\n",
    "\n",
    "###\n",
    "\n",
    "my_list = [10, 1, 8, 3, 5]\n",
    "\n",
    "my_list[0], my_list[4] = my_list[4], my_list[0]\n",
    "my_list[1], my_list[3] = my_list[3], my_list[1]\n",
    "\n",
    "print(my_list)\n",
    "\n",
    "###\n",
    "\n",
    "#Using a loop to switch values in very big lists\n",
    "for i in range(length // 2):\n",
    "    my_list[i], my_list[length - i - 1] = my_list[length - i - 1], my_list[i]\n",
    " \n",
    "print(my_list)"
   ]
  },
  {
   "cell_type": "markdown",
   "id": "a9b5bfa1",
   "metadata": {},
   "source": [
    "    - we've assigned the length variable with the current list's length (this makes our code a bit clearer and shorter)\n",
    "    - we've launched the for loop to run through its body length // 2 times \n",
    "        (this works well for lists with both even and odd lengths, because when the list contains an odd number of elements, the middle one remains untouched)\n",
    "    - we've swapped the ith element (from the beginning of the list) with the one with an index equal to (length - i - 1) \n",
    "        (from the end of the list); in our example, for i equal to 0 the (length - i - 1) gives 4; \n",
    "    - for i equal to 1, it gives 3 ‒ this is exactly what we needed."
   ]
  },
  {
   "cell_type": "markdown",
   "id": "973da4ed",
   "metadata": {},
   "source": [
    "### LAB: The basics of lists ‒ the Beatles\n",
    "    step 1: create an empty list named beatles;\n",
    "    step 2: use the append() method to add the following members of the band to the list: \n",
    "        John Lennon, Paul McCartney, and George Harrison;\n",
    "    step 3: use the for loop and the append() method to prompt the user to add the following members of the band to the list: \n",
    "        Stu Sutcliffe, and Pete Best;\n",
    "    step 4: use the del instruction to remove Stu Sutcliffe and Pete Best from the list;\n",
    "    step 5: use the insert() method to add Ringo Starr to the beginning of the list."
   ]
  },
  {
   "cell_type": "code",
   "execution_count": null,
   "id": "1f42a8e7",
   "metadata": {},
   "outputs": [],
   "source": [
    "# step 1\n",
    "beatles = []\n",
    "print(\"Step 1:\", beatles)\n",
    "\n",
    "# step 2\n",
    "beatles.append('John Lennon')\n",
    "beatles.append('Paul McCartney')\n",
    "beatles.append('George Harrison')\n",
    "print(\"Step 2:\", beatles)\n",
    "\n",
    "# step 3\n",
    "beatles.append(input(\"Enter Stu Sutcliffe: \"))\n",
    "beatles.append(input(\"Enter Pete Best: \"))\n",
    "print(\"Step 3:\", beatles)\n",
    "\n",
    "# step 4\n",
    "for i in range(2):\n",
    "    del beatles[-1]\n",
    "print(\"Step 4:\", beatles)\n",
    "\n",
    "# step 5\n",
    "beatles.insert(0, 'Ringo Starr')\n",
    "print(\"Step 5:\", beatles)\n",
    "\n",
    "# testing list legth\n",
    "print(\"The Fab\", len(beatles))"
   ]
  },
  {
   "cell_type": "markdown",
   "id": "b3799678",
   "metadata": {},
   "source": [
    "### Summary of lists"
   ]
  },
  {
   "cell_type": "code",
   "execution_count": null,
   "id": "fe0255d4",
   "metadata": {},
   "outputs": [],
   "source": [
    "#multiple types of elements\n",
    "my_list = [1, None, True, 'I am a string', 256, 0]\n",
    "print(my_list[3])  # outputs: I am a string\n",
    "print(my_list[-1])  # outputs: 0\n",
    "\n",
    "my_list[1] = '?'\n",
    "print(my_list)  # outputs: [1, '?', True, 'I am a string', 256, 0]\n",
    "\n",
    "my_list.insert(0, \"first\")\n",
    "my_list.append(\"last\")\n",
    "print(my_list)  # outputs: ['first', 1, '?', True, 'I am a string', 256, 0, 'last']\n",
    "\n",
    "\n",
    "#can be nested\n",
    "my_list = [1, 'a', [\"list\", 64, [0, 1], False]]\n",
    "\n",
    "\n",
    "#deleting elements\n",
    "my_list = [1, 2, 3, 4]\n",
    "del my_list[2]\n",
    "print(my_list)  # outputs: [1, 2, 4]\n",
    "\n",
    "del my_list  # deletes the whole list\n",
    "\n",
    "\n",
    "#iterating with a for loop\n",
    "my_list = [\"white\", \"purple\", \"blue\", \"yellow\", \"green\"]\n",
    "\n",
    "for color in my_list:\n",
    "    print(color)\n",
    "\n",
    "    \n",
    "#check length of list\n",
    "my_list = [\"white\", \"purple\", \"blue\", \"yellow\", \"green\"]\n",
    "print(len(my_list))  # outputs 5\n",
    "\n",
    "del my_list[2]\n",
    "print(len(my_list))  # outputs 4\n",
    "\n",
    "#Output?\n",
    "lst = [1, 2, 3, 4, 5]\n",
    "lst_2 = []\n",
    "add = 0\n",
    " \n",
    "for number in lst:\n",
    "    add += number\n",
    "    lst_2.append(add)\n",
    " \n",
    "print(lst_2)"
   ]
  },
  {
   "cell_type": "markdown",
   "id": "42c50063",
   "metadata": {},
   "source": [
    "### Sorting Lists"
   ]
  },
  {
   "cell_type": "code",
   "execution_count": null,
   "id": "19e81477",
   "metadata": {},
   "outputs": [],
   "source": [
    "#Bubble sort\n",
    "\"\"\"my_list = [8, 10, 6, 2, 4]  # list to sort\n",
    "swapped = True  # It's a little fake, we need it to enter the while loop.\n",
    "\n",
    "while swapped:\n",
    "    swapped = False  # no swaps so far\n",
    "    for i in range(len(my_list) - 1):\n",
    "        if my_list[i] > my_list[i + 1]:\n",
    "            swapped = True  # a swap occurred!\n",
    "            my_list[i], my_list[i + 1] = my_list[i + 1], my_list[i]\n",
    "\n",
    "print(my_list)\"\"\"\n",
    "\n",
    "#\n",
    "#Bubble sort - interactive version\n",
    "my_list = []\n",
    "swapped = True\n",
    "num = int(input(\"How many elements do you want to sort: \"))\n",
    "\n",
    "for i in range(num):\n",
    "    val = float(input(\"Enter a list element: \"))\n",
    "    my_list.append(val)\n",
    "\n",
    "while swapped:\n",
    "    swapped = False\n",
    "    for i in range(len(my_list) - 1):\n",
    "        if my_list[i] > my_list[i + 1]:\n",
    "            swapped = True\n",
    "            my_list[i], my_list[i + 1] = my_list[i + 1], my_list[i]\n",
    "\n",
    "print(\"\\nSorted:\")\n",
    "print(my_list)\n",
    "\n",
    "#\n",
    "#Or simply using sort()\n",
    "my_list = [8, 10, 6, 2, 4]\n",
    "my_list.sort()\n",
    "print(my_list)\n",
    "\n"
   ]
  },
  {
   "cell_type": "markdown",
   "id": "0a67dc8e",
   "metadata": {},
   "source": [
    "### Lists and their location\n",
    "    - the name of an ordinary variable is !!the name of its content!!\n",
    "    - the name of a list is !!the name of a memory location where the list is stored!!"
   ]
  },
  {
   "cell_type": "code",
   "execution_count": null,
   "id": "a5d67eb7",
   "metadata": {},
   "outputs": [],
   "source": [
    "list_1 = [1]\n",
    "list_2 = list_1\n",
    "list_1[0] = 2\n",
    "print(list_2)\n",
    "\n",
    "#Slices / Copying the entire list.\n",
    "list_1 = [1]\n",
    "list_2 = list_1[:] #make a brand new copy of a list, or parts of a list\n",
    "list_1[0] = 2\n",
    "print(list_2)\n",
    "\n",
    "# Copying some part of the list.\n",
    "my_list = [10, 8, 6, 4, 2]\n",
    "new_list = my_list[2:4] #Copy elements from the 2nd index to the 4th (but not including)\n",
    "#my_list[startindex:endindex -1]\n",
    "print(new_list)\n",
    "\n",
    "my_list = [10, 8, 6, 4, 2]\n",
    "new_list = my_list[1:-1]\n",
    "print(new_list)\n"
   ]
  },
  {
   "cell_type": "markdown",
   "id": "7e6dded5",
   "metadata": {},
   "source": [
    "##### [:] copies whole list\n",
    "##### [1:]copies all element from the first index to last (excluding the 0th)\n",
    "##### [1:-1] copies all elements from the first index to the second last"
   ]
  },
  {
   "cell_type": "code",
   "execution_count": null,
   "id": "db55386f",
   "metadata": {},
   "outputs": [],
   "source": [
    "lst = [1, 2, 3]\n",
    "\n",
    "print(lst[-1])\n",
    "\n",
    "new_lst = lst[0:-1]\n",
    "print(new_lst)\n",
    "\n",
    "my_list = [10, 8, 6, 4, 2]\n",
    "del my_list[:] #deletes the CONTENT of the list, my_list will be empty []\n",
    "# del my_list # deletes the WHOLE LIST, my_list won't exists anymore\n",
    "print(my_list)\n",
    "\n"
   ]
  },
  {
   "cell_type": "markdown",
   "id": "c626d57c",
   "metadata": {},
   "source": [
    "### in and not in operators"
   ]
  },
  {
   "cell_type": "code",
   "execution_count": null,
   "id": "86a1ebf4",
   "metadata": {},
   "outputs": [],
   "source": [
    "my_list = [0, 3, 12, 8, 2]\n",
    "\n",
    "print(5 in my_list)\n",
    "print(5 not in my_list)\n",
    "print(12 in my_list)\n",
    "\n",
    "\n",
    "#find largest\n",
    "my_list = [17, 3, 11, 5, 1, 9, 7, 15, 13]\n",
    "largest = my_list[0]\n",
    "\n",
    "for i in my_list:\n",
    "    if i > largest:\n",
    "        largest = i\n",
    "\n",
    "print(largest)\n",
    "\n"
   ]
  },
  {
   "cell_type": "markdown",
   "id": "f4da53f5",
   "metadata": {},
   "source": [
    "### find a value"
   ]
  },
  {
   "cell_type": "code",
   "execution_count": null,
   "id": "3e5608e1",
   "metadata": {},
   "outputs": [],
   "source": [
    "my_list = [1, 2, 3, 4, 5, 6, 7, 8, 9, 10]\n",
    "to_find = 5\n",
    "found = False\n",
    "\n",
    "for i in range(len(my_list)):\n",
    "    found = my_list[i] == to_find\n",
    "    if found:\n",
    "        break\n",
    "\n",
    "if found:\n",
    "    print(\"Element found at index\", i)\n",
    "else:\n",
    "    print(\"absent\")\n",
    "#the target value is stored in the to_find variable;\n",
    "#the current status of the search is stored in the found variable (True/False)\n",
    "#when found becomes True, the for loop is exited.\n",
    "\n",
    "#lottery\n",
    "drawn = [5, 11, 9, 42, 3, 49]\n",
    "bets = [3, 7, 11, 42, 34, 49]\n",
    "hits = 0\n",
    " \n",
    "for number in bets:\n",
    "    if number in drawn:\n",
    "        hits += 1\n",
    " \n",
    "print(hits)"
   ]
  },
  {
   "cell_type": "markdown",
   "id": "c065a76b",
   "metadata": {},
   "source": [
    "### LAB   Operating with lists ‒ basics\n",
    "    -remove duplicate numbers\n",
    "    -hint: create a new temporary list"
   ]
  },
  {
   "cell_type": "code",
   "execution_count": null,
   "id": "76c0832c",
   "metadata": {},
   "outputs": [],
   "source": [
    "my_list = [1, 2, 4, 4, 1, 4, 2, 6, 2, 9]\n",
    "\n",
    "temp_list = [] #create empty list to copy elements into\n",
    "for n in my_list: #search values in my_list\n",
    "    if n not in temp_list: #if the value of n from my_list is not found in temp_list\n",
    "        temp_list.append(n) #include new element to temp_list\n",
    "\n",
    "my_list = temp_list[:] #copy content from temp_list to my_list\n",
    "print(\"The list with unique elements only:\")\n",
    "print(my_list)"
   ]
  },
  {
   "cell_type": "markdown",
   "id": "07f9bb39",
   "metadata": {},
   "source": [
    "### Summary around lists"
   ]
  },
  {
   "cell_type": "code",
   "execution_count": null,
   "id": "8df5a5c7",
   "metadata": {},
   "outputs": [],
   "source": [
    "vehicles_one = ['car', 'bicycle', 'motor']\n",
    "print(vehicles_one) # outputs: ['car', 'bicycle', 'motor']\n",
    "\n",
    "vehicles_two = vehicles_one\n",
    "del vehicles_one[0] # deletes 'car'\n",
    "print(vehicles_two) # outputs: ['bicycle', 'motor']\n",
    "\n",
    "###\n",
    "\n",
    "colors = ['red', 'green', 'orange']\n",
    "\n",
    "copy_whole_colors = colors[:]  # copy the entire list\n",
    "copy_part_colors = colors[0:2]  # copy part of the list\n",
    "\n",
    "###\n",
    "\n",
    "sample_list = [\"A\", \"B\", \"C\", \"D\", \"E\"]\n",
    "new_list = sample_list[2:-1]\n",
    "print(new_list)  # outputs: ['C', 'D']\n",
    "\n",
    "###\n",
    "\n",
    "my_list = [1, 2, 3, 4, 5]\n",
    "slice_one = my_list[2: ]\n",
    "slice_two = my_list[ :2]\n",
    "slice_three = my_list[-2: ]\n",
    "\n",
    "print(slice_one)  # outputs: [3, 4, 5]\n",
    "print(slice_two)  # outputs: [1, 2]\n",
    "print(slice_three)  # outputs: [4, 5]\n",
    "\n",
    "###\n",
    "\n",
    "my_list = [1, 2, 3, 4, 5]\n",
    "del my_list[0:2]\n",
    "print(my_list)  # outputs: [3, 4, 5]\n",
    "\n",
    "del my_list[:]\n",
    "print(my_list)  # deletes the list content, outputs: []\n",
    "\n",
    "###\n",
    "\n",
    "my_list = [\"A\", \"B\", 1, 2]\n",
    "\n",
    "print(\"A\" in my_list)  # outputs: True\n",
    "print(\"C\" not in my_list)  # outputs: True\n",
    "print(2 not in my_list)  # outputs: False"
   ]
  },
  {
   "cell_type": "markdown",
   "id": "6a80fd28",
   "metadata": {},
   "source": [
    "### Lists in lists"
   ]
  },
  {
   "cell_type": "code",
   "execution_count": null,
   "id": "1f3e6e63",
   "metadata": {},
   "outputs": [],
   "source": [
    "# Fill a list with white pawns\n",
    "row = []\n",
    "\n",
    "for i in range(8):\n",
    "    row.append(WHITE_PAWN)"
   ]
  },
  {
   "cell_type": "markdown",
   "id": "d72dbcb8",
   "metadata": {},
   "source": [
    "### List comprehension\n",
    "\n",
    "    The part of the code placed inside the brackets specifies:\n",
    "        the data to be used to fill the list (WHITE_PAWN)\n",
    "        the clause specifying how many times the data occurs inside the list (for i in range(8))"
   ]
  },
  {
   "cell_type": "code",
   "execution_count": null,
   "id": "702da5bf",
   "metadata": {},
   "outputs": [],
   "source": [
    "row = [WHITE_PAWN for i in range(8)]\n",
    "\n",
    "###\n",
    "\n",
    "squares = [x ** 2 for x in range(10)]\n",
    "# The snippet produces a ten-element list filled with squares of ten integer numbers starting from zero \n",
    "# (0, 1, 4, 9, 16, 25, 36, 49, 64, 81)\n",
    "\n",
    "###\n",
    "\n",
    "twos = [2 ** i for i in range(8)]\n",
    "# The snippet creates an eight-element array containing the first eight powers of two \n",
    "# (1, 2, 4, 8, 16, 32, 64, 128)\n",
    "\n",
    "###\n",
    "\n",
    "odds = [x for x in squares if x % 2 != 0 ]\n",
    "# The snippet makes a list with only the odd elements of the squares list."
   ]
  },
  {
   "cell_type": "markdown",
   "id": "5146179b",
   "metadata": {},
   "source": [
    "### Two-Dimensional arrays"
   ]
  },
  {
   "cell_type": "code",
   "execution_count": null,
   "id": "e74428f3",
   "metadata": {},
   "outputs": [],
   "source": [
    "board = []\n",
    "\n",
    "for i in range(8):\n",
    "    row = [EMPTY for i in range(8)]\n",
    "    board.append(row)\n",
    "\n",
    "# the inner part of the loop creates a row consisting of eight elements (each of them equal to EMPTY) \n",
    "# and appends it to the board list;\n",
    "# the outer part repeats it eight times;\n",
    "# in total, the board list consists of 64 elements (all equal to EMPTY)\n",
    "\n",
    "board = [[EMPTY for i in range(8)] for j in range(8)]"
   ]
  },
  {
   "attachments": {
    "image.png": {
     "image/png": "[encoded data removed]"
    }
   },
   "cell_type": "markdown",
   "id": "0476dbfc",
   "metadata": {},
   "source": [
    "![image.png](attachment:image.png)"
   ]
  },
  {
   "cell_type": "code",
   "execution_count": null,
   "id": "b92ff3a9",
   "metadata": {},
   "outputs": [],
   "source": [
    "board[0][0] = ROOK\n",
    "board[0][7] = ROOK\n",
    "board[7][0] = ROOK\n",
    "board[7][7] = ROOK\n",
    "\n",
    "# Put a Knight on C4\n",
    "board[4][2] = KNIGHT\n",
    "\n",
    "# Add a Pawn to E5\n",
    "board[3][4] = PAWN\n"
   ]
  },
  {
   "cell_type": "markdown",
   "id": "dc146edd",
   "metadata": {},
   "source": [
    "### Multidimensional nature of lists: advanced applications\n",
    "To find any element of a two-dimensional list, you have to use two coordinates:\n",
    "\n",
    "    - a vertical one (row number)\n",
    "    - and a horizontal one (column number)"
   ]
  },
  {
   "cell_type": "code",
   "execution_count": null,
   "id": "9c586a54",
   "metadata": {},
   "outputs": [],
   "source": [
    "# Assigne a two-dimensional list. One for the hours in a day (h=hours in range 24 for 24hours)\n",
    "# Days (d in range 31 days)\n",
    "temps = [[0.0 for h in range(24)] for d in range(31)]\n",
    "#\n",
    "# The matrix is magically updated here.\n",
    "#\n",
    "\n",
    "total = 0.0\n",
    "\n",
    "for day in temps:\n",
    "    total += day[11]\n",
    "\n",
    "average = total / 31\n",
    "\n",
    "print(\"Average temperature at noon:\", average)\n",
    "# Note: the day variable used by the for loop is not a scalar ‒ \n",
    "# each pass through the temps matrix assigns it with the subsequent rows of the matrix; hence, it's a list. \n",
    "# It has to be indexed with 11 to access the temperature value measured at noon.\n",
    "\n",
    "\n",
    "# Find the highest temp of the month\n",
    "temps = [[0.0 for h in range(24)] for d in range(31)]\n",
    "#\n",
    "# The matrix is magically updated here.\n",
    "#\n",
    "\n",
    "highest = -100.0\n",
    "\n",
    "for day in temps:\n",
    "    for temp in day:\n",
    "        if temp > highest:\n",
    "            highest = temp\n",
    "\n",
    "print(\"The highest temperature was:\", highest)\n",
    "# the day variable iterates through all the rows in the temps matrix;\n",
    "# the temp variable iterates through all the measurements taken in one day\n",
    "\n",
    "\n",
    "# Count the hot days with over 20°C\n",
    "temps = [[0.0 for h in range(24)] for d in range(31)]\n",
    "#\n",
    "# The matrix is magically updated here.\n",
    "#\n",
    "\n",
    "hot_days = 0\n",
    "\n",
    "for day in temps:\n",
    "    if day[11] > 20.0:\n",
    "        hot_days += 1\n",
    "\n",
    "print(hot_days, \"days were hot.\")\n",
    "\n"
   ]
  },
  {
   "cell_type": "markdown",
   "id": "77c5e304",
   "metadata": {},
   "source": [
    "### Three-Dimensional array - Hotel example\n",
    "Imagine a hotel. It's a huge hotel consisting of three buildings, 15 floors each. There are 20 rooms on each floor. For this, you need an array which can collect and process information on the occupied/free rooms."
   ]
  },
  {
   "cell_type": "code",
   "execution_count": null,
   "id": "6ff55f68",
   "metadata": {},
   "outputs": [],
   "source": [
    "rooms = [[[False for r in range(20)] for f in range(15)] for t in range(3)]\n",
    "# The first index (0 through 2) selects one of the buildings; the second (0 through 14) selects the floor, \n",
    "# the third (0 through 19) selects the room number. All rooms are initially free.\n",
    "\n",
    "\n",
    "rooms[1][9][13] = True\n",
    "# Book the room (in the 2nd building, in the 10th floor) number 14.\n",
    "\n",
    "\n",
    "rooms[0][4][1] = False\n",
    "# and release the second room on the fifth floor located in the first building\n",
    "\n",
    "\n",
    "# Check for a free room/vacancy \n",
    "vacancy = 0\n",
    "\n",
    "for room_number in range(20):\n",
    "    if not rooms[2][14][room_number]: # If any room on the 15th floor of the 3rd building is free = False\n",
    "        vacancy += 1 # increment vacancy by 1, which gives the amount of free rooms"
   ]
  },
  {
   "cell_type": "markdown",
   "id": "6044eefe",
   "metadata": {},
   "source": [
    "### Summary "
   ]
  },
  {
   "cell_type": "code",
   "execution_count": null,
   "id": "811d7f6f",
   "metadata": {},
   "outputs": [],
   "source": [
    "# List comprehension\n",
    "[expression for element in list if conditional]\n",
    "\n",
    "# equivilant to the following:\n",
    "for element in list:\n",
    "    if conditional:\n",
    "        expression\n",
    "        \n",
    "        \n"
   ]
  },
  {
   "attachments": {
    "image.png": {
     "image/png": "[encoded data removed]"
    }
   },
   "cell_type": "markdown",
   "id": "c6a208a7",
   "metadata": {},
   "source": [
    "### You can use nested lists in Python to create matrices (i.e., two-dimensional lists). For example:\n",
    "\n",
    "![image.png](attachment:image.png)"
   ]
  },
  {
   "cell_type": "code",
   "execution_count": null,
   "id": "b6d08c21",
   "metadata": {},
   "outputs": [],
   "source": [
    "# A four-column/four-row table ‒ a two dimensional array (4x4)\n",
    "\n",
    "table = [[\":(\", \":)\", \":(\", \":)\"],\n",
    "         [\":)\", \":(\", \":)\", \":)\"],\n",
    "         [\":(\", \":)\", \":)\", \":(\"],\n",
    "         [\":)\", \":)\", \":)\", \":(\"]]\n",
    "\n",
    "print(table)\n",
    "print(table[0][0])  # outputs: ':('\n",
    "print(table[0][3])  # outputs: ':)'"
   ]
  },
  {
   "attachments": {
    "image.png": {
     "image/png": "[encoded data removed]"
    }
   },
   "cell_type": "markdown",
   "id": "c94756b7",
   "metadata": {},
   "source": [
    "### You can nest as many lists in lists as you want, thereby creating n-dimensional lists, e.g., three-, four- or even sixty-four-dimensional arrays\n",
    "\n",
    "![image.png](attachment:image.png)"
   ]
  },
  {
   "cell_type": "code",
   "execution_count": null,
   "id": "90d30b79",
   "metadata": {},
   "outputs": [],
   "source": [
    "# Cube - a three-dimensional array (3x3x3)\n",
    "\n",
    "cube = [[[':(', 'x', 'x'],\n",
    "         [':)', 'x', 'x'],\n",
    "         [':(', 'x', 'x']],\n",
    "\n",
    "        [[':)', 'x', 'x'],\n",
    "         [':(', 'x', 'x'],\n",
    "         [':)', 'x', 'x']],\n",
    "\n",
    "        [[':(', 'x', 'x'],\n",
    "         [':)', 'x', 'x'],\n",
    "         [':)', 'x', 'x']]]\n",
    "\n",
    "print(cube)\n",
    "print(cube[0][0][0])  # outputs: ':('\n",
    "print(cube[2][2][0])  # outputs: ':)'"
   ]
  },
  {
   "cell_type": "code",
   "execution_count": null,
   "id": "7aeeda54",
   "metadata": {},
   "outputs": [],
   "source": [
    "a = 1 #0001\n",
    "b = 0 #0000\n",
    "c = a & b #bitwise AND = 0\n",
    "d = a | b #bitwise OR = 1\n",
    "e = a ^ b #bitwise XOR = 1\n",
    "\n",
    "print(c + d + e)\n",
    "\n",
    "#AND operator \n",
    "# The result is 1 where both bits are 1, and 0 otherwise.\n",
    "#a = 5  # 0b101 in binary\n",
    "#b = 3  # 0b011 in binary\n",
    "\n",
    "#c = a & b  # Binary AND: 0b001, which is 1 in decimal\n",
    "\n",
    "\n",
    "#OR operator\n",
    "# The result is 1 where at least one of the bits is 1.\n",
    "#a = 5  # 0b101 in binary\n",
    "#b = 3  # 0b011 in binary\n",
    "\n",
    "#d = a | b  # Binary OR: 0b111, which is 7 in decimal\n",
    "\n",
    "\n",
    "#XOR operator (exclusive OR) \n",
    "# The result is 1 where the bits are different, and 0 where the bits are the same.\n",
    "# a = 5  # 0b101 in binary\n",
    "# b = 3  # 0b011 in binary\n",
    "\n",
    "# e = a ^ b  # Binary XOR: 0b110, which is 6 in decimal\n"
   ]
  },
  {
   "cell_type": "code",
   "execution_count": null,
   "id": "8b2b01ab",
   "metadata": {},
   "outputs": [],
   "source": [
    "my_list = [i for i in range(-1, 2)]\n",
    "\n",
    "print(my_list)\n",
    "#Output [-1, 0, 1]\n",
    "\n",
    "###\n",
    "\n",
    "my_list = [1, 2, 3]\n",
    "for v in range(len(my_list)):\n",
    "    my_list.insert(1, my_list[v])\n",
    "print(my_list)\n",
    "#Output [1, 1, 1, 1, 2, 3]\n",
    "\n",
    "###\n",
    "\n",
    "vals = [0, 1, 2]\n",
    "vals.insert(0, 1)\n",
    "del vals[1]\n",
    "print(vals)\n",
    "#Output [1, 1, 2]"
   ]
  },
  {
   "cell_type": "markdown",
   "id": "11886d48",
   "metadata": {},
   "source": [
    "### Start of functions"
   ]
  },
  {
   "cell_type": "code",
   "execution_count": null,
   "id": "8d44e996",
   "metadata": {},
   "outputs": [],
   "source": [
    "def message(): # def for defining a function and its name\n",
    "    print(\"Enter a value: \") # body of the function for what it does.\n",
    "\n",
    "print(\"We start here.\") #just the text will be printed\n",
    "message() # the function is invoked/called here and does it's job.\n",
    "print(\"We end here.\")\n",
    "\n",
    "\n",
    "# defined functions and variables can't share the same name."
   ]
  },
  {
   "cell_type": "code",
   "execution_count": null,
   "id": "034b9b88",
   "metadata": {},
   "outputs": [],
   "source": [
    "def message(): #without argument\n",
    "    print(\"Enter a value: \")\n",
    "\n",
    "message()\n",
    "a = int(input())\n",
    "message()\n",
    "b = int(input())\n",
    "message()\n",
    "c = int(input())\n",
    "\n",
    "#\n",
    "\n",
    "def hello(name):    # defining a function and argument\n",
    "    print(\"Hello,\", name)    # body of the function\n",
    "\n",
    "name = input(\"Enter your name: \")\n",
    "hello(name)    # calling the function\n",
    "\n"
   ]
  },
  {
   "cell_type": "code",
   "execution_count": null,
   "id": "172a42ed",
   "metadata": {},
   "outputs": [],
   "source": [
    "def message(what, number):\n",
    "    print(\"Enter\", what, \"number\", number)\n",
    "\n",
    "message(\"telephone\", 11)\n",
    "message(\"price\", 5)\n",
    "message(\"number\", \"number\")\n",
    "\n",
    "#Output\n",
    "#Enter telephone number 11\n",
    "#Enter price number 5\n",
    "#Enter number number number"
   ]
  },
  {
   "cell_type": "code",
   "execution_count": null,
   "id": "a7c10788",
   "metadata": {},
   "outputs": [],
   "source": [
    "# passing parameters\n",
    "\n",
    "def introduction(first_name, last_name):\n",
    "    print(\"Hello, my name is\", first_name, last_name)\n",
    " \n",
    "introduction(\"Luke\", \"Skywalker\")\n",
    "introduction(\"Jesse\", \"Quick\")\n",
    "introduction(\"Clark\", \"Kent\")\n",
    "\n",
    "#\n",
    "# here, python allows us to directly assigne values to parameter effectively ignoring the position of the parameters\n",
    "def introduction(first_name, last_name):\n",
    "    print(\"Hello, my name is\", first_name, last_name)\n",
    "\n",
    "introduction(first_name = \"James\", last_name = \"Bond\")\n",
    "introduction(last_name = \"Skywalker\", first_name = \"Luke\")\n",
    "\n"
   ]
  },
  {
   "cell_type": "code",
   "execution_count": null,
   "id": "32a8a63e",
   "metadata": {},
   "outputs": [],
   "source": [
    "# Mixing positional and keyword arguments\n",
    "\n",
    "def adding(a, b, c):\n",
    "    print(a, \"+\", b, \"+\", c, \"=\", a + b + c)\n",
    "    \n",
    "#invoke the function\n",
    "adding(1, 2, 3)\n",
    "# mixing positional\n",
    "adding(3, c = 1, b = 2)\n",
    "\n",
    "#adding(3, a = 1, b = 2) will give an error because we can't assigne a twice\n",
    "\n",
    "#we can assigne a value to a parameter when defining the function\n",
    "def introduction(first_name, last_name=\"Smith\"): \n",
    "     print(\"Hello, my name is\", first_name, last_name)\n",
    "\n",
    "introduction(\"James\", \"Doe\") # This will replace \"Smith\" with \"Doe\""
   ]
  },
  {
   "cell_type": "code",
   "execution_count": null,
   "id": "6e405eec",
   "metadata": {},
   "outputs": [],
   "source": [
    "#one-parameter function\n",
    "def hi(name):\n",
    "    print(\"Hi,\", name)\n",
    "\n",
    "hi(\"Greg\")\n",
    "\n",
    "#two-parameter function\n",
    "def hi_all(name_1, name_2):\n",
    "    print(\"Hi,\", name_2)\n",
    "    print(\"Hi,\", name_1)\n",
    "\n",
    "hi_all(\"Sebastian\", \"Konrad\")\n",
    "\n",
    "#three-parameter function\n",
    "def address(street, city, postal_code):\n",
    "    print(\"Your address is:\", street, \"St.,\", city, postal_code)\n",
    "\n",
    "s = input(\"Street: \")\n",
    "p_c = input(\"Postal Code: \")\n",
    "c = input(\"City: \")\n",
    "address(s, c, p_c)\n",
    "\n"
   ]
  },
  {
   "cell_type": "code",
   "execution_count": null,
   "id": "a1d6e643",
   "metadata": {},
   "outputs": [],
   "source": [
    "#positional argument passing in which the order of arguments passed matters (Ex. 1)\n",
    "#keyword (named) argument passing in which the order of arguments passed doesn't matter (Ex. 2)\n",
    "#a mix of positional and keyword argument passing (Ex. 3.)\n",
    "\n",
    "Ex. 1\n",
    "def subtra(a, b):\n",
    "    print(a - b)\n",
    "\n",
    "subtra(5, 2)    # outputs: 3\n",
    "subtra(2, 5)    # outputs: -3\n",
    "\n",
    "\n",
    "Ex. 2\n",
    "def subtra(a, b):\n",
    "    print(a - b)\n",
    "\n",
    "subtra(a=5, b=2)    # outputs: 3\n",
    "subtra(b=2, a=5)    # outputs: 3\n",
    "\n",
    "Ex. 3\n",
    "def subtra(a, b):\n",
    "    print(a - b)\n",
    "\n",
    "subtra(5, b=2)    # outputs: 3\n",
    "subtra(5, 2)    # outputs: 3\n",
    "\n",
    "#It's important to remember that positional arguments mustn't follow keyword arguments. \n",
    "#That's why if you try to run the following snippet:\n",
    "def subtra(a, b):\n",
    "    print(a - b)\n",
    "\n",
    "subtra(5, b=2)    # outputs: 3\n",
    "subtra(a=5, 2)    # Syntax Error\n",
    "\n",
    "#You can use the keyword argument-passing technique to pre-define a value for a given argument:\n",
    "def name(first_name, last_name=\"Smith\"):\n",
    "    print(first_name, last_name)\n",
    "\n",
    "name(\"Andy\")    # outputs: Andy Smith\n",
    "name(\"Betty\", \"Johnson\")    # outputs: Betty Johnson (the keyword argument replaced by \"Johnson\")\n",
    "\n"
   ]
  },
  {
   "cell_type": "code",
   "execution_count": null,
   "id": "6fcbc40a",
   "metadata": {},
   "outputs": [],
   "source": [
    "def add_numbers(a, b=2, c):\n",
    "    print(a + b + c)\n",
    " \n",
    "add_numbers(a=1, c=3)\n",
    "#SyntaxError - a non-default argument (c) follows a default argument (b=2)."
   ]
  },
  {
   "cell_type": "markdown",
   "id": "e6e4726a",
   "metadata": {},
   "source": [
    "### return instruction"
   ]
  },
  {
   "cell_type": "code",
   "execution_count": null,
   "id": "01e48c7f",
   "metadata": {},
   "outputs": [],
   "source": [
    "#return without expression\n",
    "def happy_new_year(wishes = True):\n",
    "    print(\"Three...\")\n",
    "    print(\"Two...\")\n",
    "    print(\"One...\")\n",
    "    if not wishes:\n",
    "        return\n",
    "\n",
    "    print(\"Happy New Year!\")\n",
    "\n",
    "happy_new_year()#automatically takes the default argument, which is true\n",
    "#output\n",
    "#Three...\n",
    "#Two...\n",
    "#One...\n",
    "#Happy New Year!\n",
    "\n",
    "happy_new_year(False)\n",
    "#output\n",
    "#Three...\n",
    "#Two...\n",
    "#One...\n"
   ]
  },
  {
   "cell_type": "code",
   "execution_count": null,
   "id": "f4258557",
   "metadata": {},
   "outputs": [],
   "source": [
    "#return with expression\n",
    "def function():\n",
    "    return expression\n",
    "#\n",
    "\n",
    "def boring_function():\n",
    "    return 123\n",
    "\n",
    "x = boring_function()\n",
    "\n",
    "print(\"The boring_function has returned its result. It's:\", x)\n",
    "\n"
   ]
  },
  {
   "attachments": {
    "image.png": {
     "image/png": "[encoded data removed]"
    }
   },
   "cell_type": "markdown",
   "id": "4974671f",
   "metadata": {},
   "source": [
    "![image.png](attachment:image.png)"
   ]
  },
  {
   "cell_type": "code",
   "execution_count": null,
   "id": "ea1e76a0",
   "metadata": {},
   "outputs": [],
   "source": [
    "def strange_function(n):\n",
    "    if(n % 2 == 0):\n",
    "        return True\n",
    "    \n",
    "print(strange_function(2)) #returns True\n",
    "print(strange_function(1)) #returns None"
   ]
  },
  {
   "cell_type": "markdown",
   "id": "ba81712e",
   "metadata": {},
   "source": [
    "### lists and functions"
   ]
  },
  {
   "cell_type": "code",
   "execution_count": null,
   "id": "a024841a",
   "metadata": {},
   "outputs": [],
   "source": [
    "def list_sum(lst):\n",
    "    s = 0\n",
    "\n",
    "    for elem in lst:\n",
    "        s += elem\n",
    "\n",
    "    return s\n",
    "\n",
    "print(list_sum([5, 4, 3]))\n",
    "\n",
    "print(list_sum(5)) #TypeError: 'int' object is not iterable"
   ]
  },
  {
   "cell_type": "code",
   "execution_count": null,
   "id": "5f2d0d00",
   "metadata": {},
   "outputs": [],
   "source": [
    "def strange_list_fun(n):\n",
    "    strange_list = []\n",
    "    \n",
    "    for i in range(0, n):\n",
    "        strange_list.insert(0, i)\n",
    "    \n",
    "    return strange_list\n",
    "\n",
    "print(strange_list_fun(5))"
   ]
  },
  {
   "cell_type": "markdown",
   "id": "163ff5d1",
   "metadata": {},
   "source": [
    "### LAB   A leap year: writing your own functions\n",
    "Your task is to write and test a function which takes one argument (a year) and returns True if the year is a leap year, or False otherwise.\n",
    "\n",
    "The seed of the function is already shown in the skeleton code in the editor.\n",
    "\n",
    "Note: we've also prepared a short testing code, which you can use to test your function.\n",
    "\n",
    "The code uses two lists ‒ one with the test data, and the other containing the expected results. The code will tell you if any of your results are invalid."
   ]
  },
  {
   "cell_type": "code",
   "execution_count": null,
   "id": "88bdb5df",
   "metadata": {},
   "outputs": [],
   "source": [
    "def is_year_leap(year):\n",
    "    return year % 4 == 0 and (year % 100 != 0 or year % 400 == 0)\n",
    "\n",
    "test_data = [1900, 2000, 2016, 1987]\n",
    "test_results = [False, True, True, False]\n",
    "\n",
    "for i in range(len(test_data)):\n",
    "    year = test_data[i]\n",
    "    expected_result = test_results[i]\n",
    "    result = is_year_leap(year)\n",
    "    print(f\"{year} -> {result} (expected: {expected_result})\")\n"
   ]
  },
  {
   "cell_type": "markdown",
   "id": "ec8531fe",
   "metadata": {},
   "source": [
    "### LAB   How many days: writing and using your own functions\n",
    "\n",
    "Your task is to write and test a function which takes two arguments (a year and a month) and returns the number of days for the given year-month pair (while only February is sensitive to the year value, your function should be universal).\n",
    "\n",
    "The initial part of the function is ready. Now, convince the function to return None if its arguments don't make sense.\n",
    "\n",
    "Of course, you can (and should) use the previously written and tested function (LAB 4.3.1.6). It may be very helpful. We encourage you to use a list filled with the months' lengths. You can create it inside the function ‒ this trick will significantly shorten the code."
   ]
  },
  {
   "cell_type": "code",
   "execution_count": null,
   "id": "d11843b5",
   "metadata": {},
   "outputs": [],
   "source": [
    "def is_year_leap(year):\n",
    "    return year % 4 == 0 and (year % 100 != 0 or year % 400 == 0)\n",
    "\n",
    "def days_in_month(year, month):\n",
    "    high = 1, 3, 5, 7, 8, 10, 12\n",
    "    low = 4, 6, 9, 11\n",
    "    if is_year_leap(year):\n",
    "        if month == 2:\n",
    "            return 29\n",
    "        elif month in high:\n",
    "            return 31\n",
    "        elif month in low:\n",
    "            return 30\n",
    "    else:\n",
    "        if month == 2:\n",
    "            return 28\n",
    "        elif month in high:\n",
    "            return 31\n",
    "        elif month in low:\n",
    "            return 30\n",
    "\n",
    "# Test cases with correct comparisons\n",
    "test_years = [1900, 2000, 2016, 1987]\n",
    "test_months = [2, 2, 1, 11]\n",
    "test_results = [28, 29, 31, 30]\n",
    "for i in range(len(test_years)):\n",
    "    yr = test_years[i]\n",
    "    mo = test_months[i]\n",
    "    print(yr, mo, \"->\", end=\"\")\n",
    "    result = days_in_month(yr, mo)\n",
    "    if result == test_results[i]:\n",
    "        print(\"OK\", result)\n",
    "    else:\n",
    "        print(\"Failed\", result)  # Print the actual result for debugging\n",
    "\n",
    "        \n",
    "#OR\n",
    "\n",
    "def is_year_leap(year):\n",
    "    if year % 4 != 0:\n",
    "        return False\n",
    "    elif year % 100 != 0:\n",
    "        return True\n",
    "    elif year % 400 != 0:\n",
    "        return False\n",
    "    else:\n",
    "        return True\n",
    "\n",
    "def days_in_month(year, month):\n",
    "    days = [31, 28, 31, 30, 31, 30, 31, 31, 30, 31, 30, 31]\n",
    "    day  = days[month - 1]\n",
    "    if month == 2 and is_year_leap(year):\n",
    "        day = 29\n",
    "    return day\n",
    "\n",
    "test_years = [1900, 2000, 2016, 1987]\n",
    "test_months = [ 2, 2, 1, 11]\n",
    "test_results = [28, 29, 31, 30]\n",
    "for i in range(len(test_years)):\n",
    "    yr = test_years[i]\n",
    "    mo = test_months[i]\n",
    "    print(yr,mo,\"-> \",end=\"\")\n",
    "    result = days_in_month(yr, mo)\n",
    "    if result == test_results[i]:\n",
    "        print(\"OK\",result)\n",
    "    else:\n",
    "        print(\"Failed\")\n"
   ]
  },
  {
   "cell_type": "code",
   "execution_count": null,
   "id": "805249e2",
   "metadata": {},
   "outputs": [],
   "source": [
    "days = [31, 28, 31, 30, 31, 30, 31, 31, 30, 31, 30, 31]\n",
    "\n",
    "# Using \"in range(days)\"\n",
    "for i in range(len(days)):\n",
    "    print(f\"Day {i+1}: {days[i]}\")  # Access each element using index\n",
    "\n",
    "# Using \"in len(range(days))\" (incorrect)\n",
    "#for k in range(len(range(days))):  # This loop runs only once\n",
    "    #print(\"This code won't iterate through the days list.\")\n",
    "\n",
    "\n"
   ]
  },
  {
   "cell_type": "markdown",
   "id": "d5440a6d",
   "metadata": {},
   "source": [
    "### Day of the year: writing and using your own functions\n",
    "\n",
    "Your task is to write and test a function which takes three arguments (a year, a month, and a day of the month) and returns the corresponding day of the year, or returns None if any of the arguments is invalid.\n",
    "\n",
    "Use the previously written and tested functions. Add your own test cases to the code."
   ]
  },
  {
   "cell_type": "code",
   "execution_count": null,
   "id": "00a49c2e",
   "metadata": {},
   "outputs": [],
   "source": [
    "days = [31, 28, 31, 30, 31, 30, 31, 31, 30, 31, 30, 31]\n",
    "    \n",
    "def is_year_leap(year):\n",
    "    return year % 4 == 0 and (year % 100 != 0 or year % 400 == 0) # returns True or False\n",
    "\n",
    "def days_in_month(year, month): # not really necessary. Could just iterate through days list\n",
    "    day  = days[month - 1]\n",
    "    if month == 2 and is_year_leap(year):\n",
    "        day = 29\n",
    "    return day #stores february days and adjusts for leap year.\n",
    "\n",
    "def day_of_year(year, month, day):\n",
    "    days_sum = 0\n",
    "    if is_year_leap(year):\n",
    "        days_sum += 1  # necessary?    \n",
    "    for month_n in range(1, month + 1):\n",
    "        days_sum += days_in_month(year, month_n)\n",
    "    return days_sum\n",
    "    \n",
    "    \n",
    "\n",
    "print(day_of_year(2001, 12, 31))"
   ]
  },
  {
   "cell_type": "markdown",
   "id": "8d983201",
   "metadata": {},
   "source": [
    "### LAB   Prime numbers ‒ how to find them\n",
    "\n",
    "A natural number is prime if it is greater than 1 and has no divisors other than 1 and itself.\n",
    "\n",
    "Complicated? Not at all. For example, 8 isn't a prime number, as you can divide it by 2 and 4 (we can't use divisors equal to 1 and 8, as the definition prohibits this).\n",
    "\n",
    "On the other hand, 7 is a prime number, as we can't find any legal divisors for it.\n",
    "\n",
    "Your task is to write a function checking whether a number is prime or not.\n",
    "\n",
    "The function:\n",
    "\n",
    "`is called is_prime;`\n",
    "takes one argument (the value to check)\n",
    "returns `True` if the argument is a prime number, and `False` otherwise.\n",
    "Hint: try to divide the argument by all subsequent values (starting from 2) and check the remainder ‒ if it's zero, your number cannot be a prime; think carefully about when you should stop the process.\n",
    "\n",
    "If you need to know the square root of any value, you can utilize the `**` operator. Remember: the square root of x is the same as x0.5\n",
    "\n",
    "Complete the code in the editor.\n",
    "\n",
    "Run your code and check whether your output is the same as ours.\n",
    "\n",
    "Expected output:\n",
    "\n",
    "2 3 5 7 11 13 17 19"
   ]
  },
  {
   "cell_type": "code",
   "execution_count": null,
   "id": "dc0605d9",
   "metadata": {},
   "outputs": [],
   "source": [
    "def is_prime(number):\n",
    "    if number <= 1:\n",
    "        return False  \n",
    "    divider = int(number**0.5) + 1\n",
    "    for i in range(2, divider):\n",
    "        if number % i == 0:\n",
    "            return False    \n",
    "    return True\n",
    "\n",
    "primes = []\n",
    "for x in range(2, 20):\n",
    "    if is_prime(x):\n",
    "        primes.append(x)\n",
    "        \n",
    "for prime in primes:\n",
    "    print(prime, end=\" \")\n",
    "            \n",
    "    "
   ]
  },
  {
   "cell_type": "markdown",
   "id": "fce556f5",
   "metadata": {},
   "source": [
    "### LAB   Converting fuel consumption\n",
    "A car's fuel consumption may be expressed in many different ways. For example, in Europe, it is shown as the amount of fuel consumed per 100 kilometers.\n",
    "\n",
    "In the USA, it is shown as the number of miles traveled by a car using one gallon of fuel.\n",
    "\n",
    "Your task is to write a pair of functions converting l/100km into mpg, and vice versa.\n",
    "\n",
    "The functions:\n",
    "\n",
    "are named `liters_100km_to_miles_gallon` and `miles_gallon_to_liters_100km` respectively;\n",
    "take one argument (the value corresponding to their names)\n",
    "Complete the code in the editor and run it to check whether your output is the same as ours.\n",
    "\n",
    "Here is some information to help you:\n",
    "\n",
    "1 American mile = 1609.344 metres;\n",
    "1 American gallon = 3.785411784 litres.\n",
    "\n",
    "Expected output:\n",
    "\n",
    "60.31143162393162\n",
    "\n",
    "31.36194444444444\n",
    "\n",
    "23.52145833333333\n",
    "\n",
    "3.9007393587617467\n",
    "\n",
    "7.490910297239916\n",
    "\n",
    "10.009131205673757"
   ]
  },
  {
   "cell_type": "code",
   "execution_count": null,
   "id": "9bcfcfb8",
   "metadata": {},
   "outputs": [],
   "source": [
    "# FUCKING DUMB LAB\n",
    "\n",
    "def liters_100km_to_miles_gallon(liters):\n",
    "    liters_per_100km = liters\n",
    "    miles_per_gallon = 235.2 / liters_per_100km\n",
    "    \n",
    "    return miles_per_gallon\n",
    "\n",
    "def miles_gallon_to_liters_100km(miles):\n",
    "    miles_per_gallon = miles\n",
    "    liters_per_100km = 235.2 / miles_per_gallon\n",
    "    \n",
    "    return liters_per_100km\n",
    "\n",
    "print(liters_100km_to_miles_gallon(3.9))  # Output: 60.3076923076923\n",
    "print(liters_100km_to_miles_gallon(7.5))  # Output: 31.36\n",
    "print(liters_100km_to_miles_gallon(10.))  # Output: 23.52\n",
    "print(miles_gallon_to_liters_100km(60.3))  # Output: 3.8949404558551\n",
    "print(miles_gallon_to_liters_100km(31.4))  # Output: 7.49063670411998\n",
    "print(miles_gallon_to_liters_100km(23.5))  # Output: 10.006338028169\n"
   ]
  },
  {
   "cell_type": "code",
   "execution_count": null,
   "id": "456d1407",
   "metadata": {},
   "outputs": [],
   "source": [
    "# Example of two different outputs\n",
    "# Example 1\n",
    "def wishes():\n",
    "    print(\"My Wishes\")\n",
    "    return \"Happy Birthday\"\n",
    " \n",
    "wishes() # outputs: My Wishes\n",
    " \n",
    " \n",
    "# Example 2\n",
    "def wishes():\n",
    "    print(\"My Wishes\")\n",
    "    return \"Happy Birthday\"\n",
    " \n",
    "print(wishes())\n",
    " \n",
    "# outputs: My Wishes\n",
    "# Happy Birthday"
   ]
  },
  {
   "cell_type": "markdown",
   "id": "2b45464a",
   "metadata": {},
   "source": [
    "## 4.4.1 Functions and scopes"
   ]
  },
  {
   "cell_type": "code",
   "execution_count": null,
   "id": "2520db43",
   "metadata": {},
   "outputs": [],
   "source": [
    "def my_function():\n",
    "    print(\"Do I know that variable?\", var)\n",
    "\n",
    "\n",
    "var = 1\n",
    "my_function()\n",
    "# print(var) # Output is successful"
   ]
  },
  {
   "cell_type": "code",
   "execution_count": null,
   "id": "1f9c4119",
   "metadata": {},
   "outputs": [],
   "source": [
    "def my_function():\n",
    "    var = 2 # \"Inside Variable\" var is set inside the function. It won't be callable outside the function.\n",
    "    print(\"Do I know that variable?\", var)\n",
    " \n",
    " \n",
    "var = 1 # \"Outside Variable\" var. Can be called by functions, but has no priority.\n",
    "my_function() # Output still 2\n",
    "print(var) # Output 1, as it is called directly and not from inside the function"
   ]
  },
  {
   "cell_type": "code",
   "execution_count": null,
   "id": "0ce0eda6",
   "metadata": {},
   "outputs": [],
   "source": [
    "# GLOBAL Keyword\n",
    "def my_function():\n",
    "    global var #basically allows overwriting outside functions of the same name.\n",
    "    var = 2\n",
    "    print(\"Do I know that variable?\", var)\n",
    "\n",
    "\n",
    "var = 1\n",
    "my_function()\n",
    "print(var) # Output 2"
   ]
  },
  {
   "cell_type": "code",
   "execution_count": null,
   "id": "a09d8bf4",
   "metadata": {},
   "outputs": [],
   "source": [
    "def my_function(my_list_1):\n",
    "    print(\"Print #1:\", my_list_1) # Uses the given argument => same name: => [2, 3]\n",
    "    print(\"Print #2:\", my_list_2) # calls my_list_2 from outside [2, 3]\n",
    "    my_list_1 = [0, 1] # changes the given argument to [0, 2]\n",
    "    print(\"Print #3:\", my_list_1) # prints the changed argument [0, 2]\n",
    "    print(\"Print #4:\", my_list_2) # calls the list from outside [2, 3]\n",
    " \n",
    " \n",
    "my_list_2 = [2, 3] # initialize list\n",
    "my_function(my_list_2) # initializes function\n",
    "print(\"Print #5:\", my_list_2) # prints the outside my_list_2"
   ]
  },
  {
   "cell_type": "code",
   "execution_count": null,
   "id": "0b5f1de8",
   "metadata": {},
   "outputs": [],
   "source": [
    "# DIFFERENCE\n",
    "def my_function(my_list_1):\n",
    "    print(\"Print #1:\", my_list_1) # prints given argument [2, 3]\n",
    "    print(\"Print #2:\", my_list_2) # calls list from outside [2, 3]\n",
    "    del my_list_1[0] # delete first index of list\n",
    "    # del is a method and therefore applies globally\n",
    "    # differentiate between changing and assigning. Assigning happens localy (my_list_1 = [0, 1])\n",
    "    # and del, which is a change, that happens globally even if used inside a function\n",
    "    # similar to pointers\n",
    "    print(\"Print #3:\", my_list_1) #prints changed argument [3]\n",
    "    print(\"Print #4:\", my_list_2) #calls the changed list from outside [3]\n",
    " \n",
    " \n",
    "my_list_2 = [2, 3] # initialize list\n",
    "my_function(my_list_2) # initialize function\n",
    "print(\"Print #5:\", my_list_2) [3]"
   ]
  },
  {
   "cell_type": "code",
   "execution_count": null,
   "id": "53a6bbc2",
   "metadata": {},
   "outputs": [],
   "source": [
    "def adding(x):\n",
    "    var = 7\n",
    "    return x + var\n",
    " \n",
    " \n",
    "print(adding(4)) # outputs: 11\n",
    "print(var) # NameError, because variable var only exists inside the function."
   ]
  },
  {
   "cell_type": "markdown",
   "id": "e4ec1d81",
   "metadata": {},
   "source": [
    "## 4.5.1 Sample functions: Evaluating the BMI"
   ]
  },
  {
   "cell_type": "code",
   "execution_count": null,
   "id": "065ba1a7",
   "metadata": {},
   "outputs": [],
   "source": [
    "# handle suspicious inputs\n",
    "def bmi(weight, height):\n",
    "    if height < 1.0 or height > 2.5 or \\ # backslash \\ tells python to go into the next line\n",
    "    weight < 20 or weight > 200:\n",
    "        return None\n",
    "\n",
    "    return weight / height ** 2\n",
    "\n",
    "\n",
    "print(bmi(352.5, 1.65))\n",
    "print(bmi(160, 1.79))"
   ]
  },
  {
   "cell_type": "code",
   "execution_count": null,
   "id": "7d7f27a1",
   "metadata": {},
   "outputs": [],
   "source": [
    "def ft_and_inch_to_m(ft, inch = 0.0):\n",
    "    return ft * 0.3048 + inch * 0.0254\n",
    "\n",
    "\n",
    "def lb_to_kg(lb):\n",
    "    return lb * 0.4535923\n",
    "\n",
    "\n",
    "def bmi(weight, height):\n",
    "    if height < 1.0 or height > 2.5 or weight < 20 or weight > 200:\n",
    "        return None\n",
    "\n",
    "    return weight / height ** 2\n",
    "\n",
    "\n",
    "print(bmi(weight = lb_to_kg(176), height = ft_and_inch_to_m(5, 7)))\n",
    "\n"
   ]
  },
  {
   "cell_type": "markdown",
   "id": "caade53e",
   "metadata": {},
   "source": [
    "## 4.5.2 Sample functions: Triangles"
   ]
  },
  {
   "cell_type": "code",
   "execution_count": null,
   "id": "72739a4f",
   "metadata": {},
   "outputs": [],
   "source": [
    "def is_a_triangle(a, b, c):\n",
    "    if a + b <= c or b + c <= a or c + a <= b:\n",
    "        return False\n",
    "    return True\n",
    "\n",
    "\n",
    "print(is_a_triangle(1, 1, 1))\n",
    "print(is_a_triangle(1, 1, 3))\n",
    "\n"
   ]
  },
  {
   "cell_type": "code",
   "execution_count": null,
   "id": "c9bfcade",
   "metadata": {},
   "outputs": [],
   "source": [
    "# More compact\n",
    "\n",
    "def is_a_triangle(a, b, c):\n",
    "    return a + b > c and b + c > a and c + a > b\n",
    "\n",
    "\n",
    "print(is_a_triangle(1, 1, 1))\n",
    "print(is_a_triangle(1, 1, 3))\n",
    "\n"
   ]
  },
  {
   "cell_type": "markdown",
   "id": "ba907b29",
   "metadata": {},
   "source": [
    "### Triangles and the Pythagorean theorem"
   ]
  },
  {
   "cell_type": "code",
   "execution_count": null,
   "id": "f3aaaee8",
   "metadata": {},
   "outputs": [],
   "source": [
    "def is_a_triangle(a, b, c):\n",
    "    return a + b > c and b + c > a and c + a > b\n",
    "\n",
    "\n",
    "a = float(input('Enter the first side\\'s length: '))\n",
    "b = float(input('Enter the second side\\'s length: '))\n",
    "c = float(input('Enter the third side\\'s length: '))\n",
    "\n",
    "if is_a_triangle(a, b, c):\n",
    "    print('Yes, it can be a triangle.')\n",
    "else:\n",
    "    print('No, it can\\'t be a triangle.')"
   ]
  },
  {
   "cell_type": "markdown",
   "id": "72730ea1",
   "metadata": {},
   "source": [
    "In the second step, we'll try to ensure that a certain triangle is a right-angle triangle.\n",
    "\n",
    "We will need to make use of the Pythagorean theorem:\n",
    "\n",
    "`c** 2 = a** 2 + b** 2`\n",
    "\n",
    "How do we recognize which of the three sides is the hypotenuse?\n",
    "\n",
    "The hypotenuse is the longest side.\n",
    "\n",
    "\n",
    "Look at how we test the relationship between the hypotenuse and the remaining sides ‒ \n",
    "we choose the longest side, and apply the Pythagorean theorem to check if everything is right. \n",
    "This requires three checks in total."
   ]
  },
  {
   "cell_type": "code",
   "execution_count": null,
   "id": "fe93d616",
   "metadata": {},
   "outputs": [],
   "source": [
    "def is_a_triangle(a, b, c):\n",
    "    return a + b > c and b + c > a and c + a > b\n",
    "\n",
    "\n",
    "def is_a_right_triangle(a, b, c):\n",
    "    if not is_a_triangle(a, b, c):\n",
    "        return False\n",
    "    if c > a and c > b:\n",
    "        return c ** 2 == a ** 2 + b ** 2\n",
    "    if a > b and a > c:\n",
    "        return a ** 2 == b ** 2 + c ** 2\n",
    "    \n",
    "print(is_a_right_triangle(5, 3, 4))\n",
    "print(is_a_right_triangle(1, 3, 4))\n",
    "\n",
    "\n",
    "\n",
    "\n",
    "\n"
   ]
  },
  {
   "cell_type": "code",
   "execution_count": null,
   "id": "ae8fcf07",
   "metadata": {},
   "outputs": [],
   "source": [
    "def is_a_triangle(a, b, c):\n",
    "    return a + b > c and b + c > a and c + a > b\n",
    "\n",
    "\n",
    "def heron(a, b, c):\n",
    "    p = (a + b + c) / 2\n",
    "    return (p * (p - a) * (p - b) * (p - c)) ** 0.5\n",
    "\n",
    "\n",
    "def area_of_triangle(a, b, c):\n",
    "    if not is_a_triangle(a, b, c):\n",
    "        return None\n",
    "    return heron(a, b, c)\n",
    "\n",
    "\n",
    "print(area_of_triangle(1., 1., 2. ** .5))\n",
    "\n"
   ]
  },
  {
   "cell_type": "markdown",
   "id": "a3ab179d",
   "metadata": {},
   "source": [
    "## 4.5.3 Sample functions: Factorials\n",
    "\n",
    "Another function we're about to write is factorials. Do you remember how a factorial is defined?\n",
    "\n",
    "```python\n",
    "0! = 1 #(yes! it's true)\n",
    "\n",
    "1! = 1\n",
    "\n",
    "2! = 1 * 2\n",
    "\n",
    "3! = 1 * 2 * 3\n",
    "\n",
    "4! = 1 * 2 * 3 * 4\n",
    "\n",
    ":\n",
    "\n",
    "\n",
    "n! = 1 * 2 * 3 * 4 * ... * n-1 * n\n",
    "```\n",
    "It's marked with an exclamation mark, and is equal to the product of all natural numbers from one up to its argument.\n",
    "\n",
    "Let's write our code. We'll create a function and call it factorial_function. Here is the code:"
   ]
  },
  {
   "cell_type": "code",
   "execution_count": null,
   "id": "e1a25c27",
   "metadata": {},
   "outputs": [],
   "source": [
    "def factorial_function(n):\n",
    "    if n < 0:\n",
    "        return None\n",
    "    if n < 2:\n",
    "        return 1\n",
    "\n",
    "    product = 1\n",
    "    for i in range(2, n + 1):\n",
    "        product *= i\n",
    "    return product\n",
    "\n",
    "\n",
    "for n in range(1, 6):  # testing\n",
    "    print(n, factorial_function(n))"
   ]
  },
  {
   "cell_type": "markdown",
   "id": "00f948c4",
   "metadata": {},
   "source": [
    "## 4.5.4 Fibonacci numbers\n",
    "Are you familiar with Fibonacci numbers?\n",
    "\n",
    "They are a sequence of integer numbers built using a very simple rule:\n",
    "\n",
    "the first element of the sequence is equal to one (`Fib1 = 1`)\n",
    "the second is also equal to one (`Fib2 = 1`)\n",
    "every subsequent number is the the_sum of the two preceding numbers:(`Fibi = Fibi-1 + Fibi-2`)\n",
    "Here are some of the first Fibonacci numbers:\n",
    "```python\n",
    "fib_1 = 1 \n",
    "fib_2 = 1 \n",
    "fib_3 = 1 + 1 = 2 \n",
    "fib_4 = 1 + 2 = 3 \n",
    "fib_5 = 2 + 3 = 5 \n",
    "fib_6 = 3 + 5 = 8 \n",
    "fib_7 = 5 + 8 = 13\n",
    "```\n",
    "What do you think about implementing this as a function?\n",
    "\n",
    "Let's create our fib function and test it. Here it is:"
   ]
  },
  {
   "cell_type": "code",
   "execution_count": null,
   "id": "cd854176",
   "metadata": {},
   "outputs": [],
   "source": [
    "def fib(n):\n",
    "    if n < 1:\n",
    "        return None\n",
    "    if n < 3:\n",
    "        return 1\n",
    "\n",
    "    elem_1 = elem_2 = 1\n",
    "    # This statement assigns the value 1 to both elem_1 and elem_2. \n",
    "    #elem_1 = 1\n",
    "    #elem_2 = 1\n",
    "\n",
    "    the_sum = 0\n",
    "    for i in range(3, n + 1):\n",
    "        the_sum = elem_1 + elem_2\n",
    "        elem_1, elem_2 = elem_2, the_sum\n",
    "        ## This statement assignes elem_2 to elen_1 and the_sum to elem_2\n",
    "        ##            v-----------------------v\n",
    "        ## Or, var1, var2 = val_for_var1, val_for_var2\n",
    "        ##      ^----------------^\n",
    "        ## elem_1 = elem_2\n",
    "        ## elem_2 = the_sum\n",
    "    return the_sum\n",
    "\n",
    "\n",
    "for n in range(1, 10):  # testing\n",
    "    print(n, \"->\", fib(n))\n",
    "    \n",
    "    #Analyze the for loop body carefully, and find out how we move the elem_1 and elem_2 variables \n",
    "    #through the subsequent Fibonacci numbers."
   ]
  },
  {
   "cell_type": "markdown",
   "id": "eafa19b4",
   "metadata": {},
   "source": [
    "## 4.5.5 Recursion\n",
    "\n",
    "There's one more thing we want to show you to make everything complete − it's recursion.\n",
    "\n",
    "This term may describe many different concepts, but one of them is especially interesting − the one referring to computer programming.\n",
    "\n",
    "In this field, recursion is a technique where a function invokes itself.\n",
    "\n",
    "These two cases seem to be the best to illustrate the phenomenon − factorials and Fibonacci numbers. Especially the latter.\n",
    "\n",
    "The Fibonacci numbers definition is a clear example of recursion. We already told you that:\n",
    "\n",
    "`Fibi = Fibi-1 + Fibi-2`\n",
    "\n",
    "The definition of the ith number refers to the i-1 number, and so on, till you reach the first two.\n",
    "\n",
    "Can it be used in the code? Yes, it can. It can also make the code shorter and clearer.\n",
    "\n",
    "<!-- The second version of our `fib()` function makes direct use of this definition: -->"
   ]
  },
  {
   "cell_type": "code",
   "execution_count": null,
   "id": "329f8baf",
   "metadata": {},
   "outputs": [],
   "source": [
    "def fib(n):\n",
    "    if n < 1:\n",
    "        return None\n",
    "    if n < 3:\n",
    "        return 1\n",
    "    return fib(n - 1) + fib(n - 2)"
   ]
  },
  {
   "cell_type": "markdown",
   "id": "b7108db0",
   "metadata": {},
   "source": [
    "The code is much clearer now.\n",
    "\n",
    "But is it really safe? Does it entail any risk?\n",
    "\n",
    "Yes, there is a little risk indeed. If you forget to consider the conditions which can stop the chain of recursive invocations, the program may enter an infinite loop. You have to be careful.\n",
    "\n",
    "The factorial has a second, recursive side too. Look:\n",
    "\n",
    "`n! = 1 × 2 × 3 × ... × n-1 × n`\n",
    "\n",
    "It's obvious that:\n",
    "\n",
    "`1 × 2 × 3 × ... × n-1 = (n-1)!`\n",
    "\n",
    "So, finally, the result is:\n",
    "\n",
    "`n! = (n-1)! × n`\n",
    "\n",
    "This is in fact a ready recipe for our new solution."
   ]
  },
  {
   "cell_type": "code",
   "execution_count": null,
   "id": "452c0030",
   "metadata": {},
   "outputs": [],
   "source": [
    "def factorial_function(n):\n",
    "    if n < 0:\n",
    "        return None\n",
    "    if n < 2:\n",
    "        return 1\n",
    "    return n * factorial_function(n - 1)\n",
    "\n"
   ]
  },
  {
   "attachments": {
    "image-2.png": {
     "image/png": "[encoded data removed]"
    }
   },
   "cell_type": "markdown",
   "id": "7eafcd01",
   "metadata": {},
   "source": [
    "![image-2.png](attachment:image-2.png)\n",
    "\n",
    "https://pythontutor.com/render.html#code=def%20fun%28a%29%3A%0A%20%20%20%20if%20a%20%3E%2030%3A%0A%20%20%20%20%20%20%20%20return%203%0A%20%20%20%20else%3A%0A%20%20%20%20%20%20%20%20return%20a%20%2B%20fun%28a%20%2B%202%29%0A%20%0A%20%0Aprint%28fun%2822%29%29%0A%23%20Output%20%3A%20133&cumulative=false&curInstr=22&heapPrimitives=nevernest&mode=display&origin=opt-frontend.js&py=3&rawInputLstJSON=%5B%5D&textReferences=false"
   ]
  },
  {
   "cell_type": "markdown",
   "id": "3efd7954",
   "metadata": {},
   "source": [
    "### 4.5.6 SECTION SUMMARY\n",
    "1. A function can call other functions, or even itself. When a function calls itself, this situation is known as recursion, and the function which calls itself and contains a specified termination condition (i.e., the base case − a condition which doesn't tell the function to make any further calls to that function) is called a recursive function.\n",
    "\n",
    "2. You can use recursive functions in Python to write clean, elegant code, and divide it into smaller, organized chunks. On the other hand, you need to be very careful as it might be easy to make a mistake and create a function which never terminates. You also need to remember that recursive calls consume a lot of memory, and therefore may sometimes be inefficient.\n",
    "\n",
    "When using recursion, you need to take all its advantages and disadvantages into consideration.\n",
    "\n",
    "The factorial function is a classic example of how the concept of recursion can be put in practice:"
   ]
  },
  {
   "cell_type": "code",
   "execution_count": null,
   "id": "55259130",
   "metadata": {},
   "outputs": [],
   "source": [
    "# Recursive implementation of the factorial function.\n",
    "\n",
    "def factorial(n):\n",
    "    if n == 1:    # The base case (termination condition.)\n",
    "        return 1\n",
    "    else:\n",
    "        return n * factorial(n - 1)\n",
    "\n",
    "\n",
    "print(factorial(4)) # 4 * 3 * 2 * 1 = 24"
   ]
  },
  {
   "cell_type": "markdown",
   "id": "20ae6d85",
   "metadata": {},
   "source": [
    "## 4.6.1 Sequence types and mutability\n",
    "Before we start talking about tuples and dictionaries, we have to introduce two important concepts: sequence types and mutability.\n",
    "\n",
    "A **sequence type is a type of data in Python which is able to store more than one value (or less than one, as a sequence may be empty), and these values can be sequentially (hence the name) browsed**, element by element.\n",
    "\n",
    "As the for loop is a tool especially designed to iterate through sequences, we can express the definition as: **a sequence is data which can be scanned by the `for` loop.**\n",
    "\n",
    "You've encountered one Python sequence so far − the list. The list is a classic example of a Python sequence, although there are some other sequences worth mentioning, and we're going to present them to you now.\n",
    "\n",
    "The second notion − **mutability** − is a property of any Python data that describes its readiness to be freely changed during program execution. There are two kinds of Python data: **mutable** and **immutable.**\n",
    "\n",
    "**Mutable data can be freely updated at any time** − we call such an operation \"in situ\".\n",
    "\n",
    "\"In situ\" is a Latin phrase that translates as literally in position. For example, the following instruction modifies the data in situ:\n",
    "\n",
    "\n",
    "`list.append(1)`\n",
    " \n",
    "**Immutable data cannot be modified in this way.**\n",
    "\n",
    "Imagine that a list can only be assigned and read over. You would be able neither to append an element to it, nor remove any element from it. This means that appending an element to the end of the list would require the recreation of the list from scratch.\n",
    "\n",
    "You would have to build a completely new list, consisting of the all elements of the already existing list, plus the new element.\n",
    "\n",
    "The data type we want to tell you about now is a **tuple. A tuple is an immutable sequence type.** It can behave like a list, but it can't be modified in situ."
   ]
  },
  {
   "cell_type": "markdown",
   "id": "a1353088",
   "metadata": {},
   "source": [
    "## 4.6.2 Tuples\n",
    "The first and the clearest distinction between lists and tuples is the syntax used to create them - **tuples prefer to use parenthesis,** whereas lists like to see brackets, although it's also **possible to create a tuple just from a set of values separated by commas.**\n",
    "\n",
    "Look at the example:"
   ]
  },
  {
   "cell_type": "code",
   "execution_count": null,
   "id": "ec45fe51",
   "metadata": {},
   "outputs": [],
   "source": [
    "tuple_1 = (1, 2, 4, 8)\n",
    "tuple_2 = 1., .5, .25, .125\n",
    "\n",
    "print(tuple_1)\n",
    "print(tuple_2)"
   ]
  },
  {
   "cell_type": "markdown",
   "id": "7b322e4f",
   "metadata": {},
   "source": [
    "### How to use a tuple\n",
    "If you want to get the elements of a tuple in order to read them over, you can use the same conventions to which you're accustomed while using lists."
   ]
  },
  {
   "cell_type": "code",
   "execution_count": null,
   "id": "acc44a40",
   "metadata": {},
   "outputs": [],
   "source": [
    "my_tuple = (1, 10, 100, 1000)\n",
    "\n",
    "print(my_tuple[0]) # prints first element\n",
    "print(my_tuple[-1]) # prints last element\n",
    "print(my_tuple[1:]) # prints the second to last elements\n",
    "print(my_tuple[:-2]) # prints the first and second to last\n",
    "\n",
    "for elem in my_tuple:\n",
    "    print(elem) # prints elements in order"
   ]
  },
  {
   "cell_type": "code",
   "execution_count": null,
   "id": "fd9d88d7",
   "metadata": {},
   "outputs": [],
   "source": [
    "my_tuple = (1, 10, 100, 1000)\n",
    "\n",
    "my_tuple.append(10000)\n",
    "del my_tuple[0]\n",
    "my_tuple[1] = -10\n",
    "\n",
    "# All instructions (but the initialization) will cause an error:\n",
    "# AttributeError: 'tuple' object has no attribute 'append'"
   ]
  },
  {
   "cell_type": "markdown",
   "id": "96420901",
   "metadata": {},
   "source": [
    "**What else can tuples do for you?**\n",
    "\n",
    "- the `len()` function accepts tuples, and returns the number of elements contained inside;\n",
    "- the `+` operator can join tuples together (we've shown you this already)\n",
    "- the `*` operator can multiply tuples, just like lists;\n",
    "- the `in` and `not in` operators work in the same way as in lists."
   ]
  },
  {
   "cell_type": "markdown",
   "id": "daf7d887",
   "metadata": {},
   "source": [
    "### showcase of multiple uses"
   ]
  },
  {
   "cell_type": "code",
   "execution_count": null,
   "id": "77fad9ef",
   "metadata": {},
   "outputs": [],
   "source": [
    "my_tuple = (1, 10, 100)\n",
    "\n",
    "t1 = my_tuple + (1000, 10000)\n",
    "t2 = my_tuple * 3\n",
    "\n",
    "print(len(t2))\n",
    "print(t1)\n",
    "print(t2)\n",
    "print(10 in my_tuple)\n",
    "print(-10 not in my_tuple)"
   ]
  },
  {
   "cell_type": "markdown",
   "id": "3036183c",
   "metadata": {},
   "source": [
    "One of the most useful tuple properties is their ability to appear on the left side of the assignment operator. You saw this phenomenon some time ago, when it was necessary to find an elegant tool to swap two variables' values.\n",
    "\n",
    "Take a look at the snippet below:\n",
    "\n",
    "```python\n",
    "var = 123\n",
    " \n",
    "t1 = (1, )\n",
    "t2 = (2, )\n",
    "t3 = (3, var)\n",
    " \n",
    "t1, t2, t3 = t2, t3, t1\n",
    " \n",
    "print(t1, t2, t3)\n",
    "```\n",
    "It shows three tuples interacting − in effect, the values stored in them \"circulate\" − `t1` becomes `t2`, `t2` becomes `t3`, and `t3` becomes `t1`.\n",
    "\n",
    "Note: the example presents one more important fact: a tuple's elements can be variables, not only literals. Moreover, they can be expressions if they're on the right side of the assignment operator."
   ]
  },
  {
   "attachments": {
    "image.png": {
     "image/png": "[encoded data removed]"
    }
   },
   "cell_type": "markdown",
   "id": "9e428160",
   "metadata": {},
   "source": [
    "## 4.6.3 Dictionaries\n",
    "<div>\n",
    "<img src=\"attachment:image.png\" width=\"500\" align=\"left\"/>\n",
    "</div><br>\n",
    "\n",
    "The dictionary is another Python data structure. It's not a sequence type (but can be easily adapted to sequence processing) and it is mutable.\n",
    "\n",
    "To explain what the Python dictionary actually is, it is important to understand that it is literally a dictionary."
   ]
  },
  {
   "cell_type": "markdown",
   "id": "2edc1980",
   "metadata": {},
   "source": [
    "In Python's world, the word you look for is named a `key`. The word you get from the dictionary is called a `value`.\n",
    "\n",
    "This means that a dictionary is a set of **key-value** pairs. Note:\n",
    "\n",
    "- each key must be **unique** − it's not possible to have more than one key of the same value;\n",
    "- a key may be **any immutable type of object**: it can be a number (integer or float), or even a string, but not a list;\n",
    "- a dictionary is not a list − a list contains a set of numbered values, while a **dictionary holds pairs of values**;\n",
    "- the `len()` function works for dictionaries, too − it returns the number of key-value elements in the dictionary;\n",
    "- a dictionary is a **one-way tool** − if you have an English-French dictionary, you can look for French equivalents of English terms, but not vice versa.\n",
    "\n",
    "### Dictionaries are ordered the way they are assigned. This was changed. Depending on the Python version used, it may be unorderd."
   ]
  },
  {
   "cell_type": "code",
   "execution_count": null,
   "id": "6f9a72d9",
   "metadata": {},
   "outputs": [],
   "source": [
    "dictionary = {\"cat\": \"chat\", \"dog\": \"chien\", \"horse\": \"cheval\"}\n",
    "phone_numbers = {'boss': 5551234567, 'Suzy': 22657854310}\n",
    "empty_dictionary = {}\n",
    "\n",
    "print(dictionary)\n",
    "print(phone_numbers)\n",
    "print(empty_dictionary)\n",
    "\n",
    "# to access a specific key-value\n",
    "print(dictionary[\"cat\"])\n",
    "print(phone_numbers[\"Suzy\"]) # Case sensitive"
   ]
  },
  {
   "cell_type": "code",
   "execution_count": null,
   "id": "38a1cd1d",
   "metadata": {},
   "outputs": [],
   "source": [
    "dictionary = {\"cat\": \"chat\", \"dog\": \"chien\", \"horse\": \"cheval\"}\n",
    "words = ['cat', 'lion', 'horse']\n",
    "\n",
    "for word in words: #search words list\n",
    "    if word in dictionary: #check if value hold in word is in dictionary (keys)\n",
    "        print(word, \"->\", dictionary[word]) #print the value stored -> value of that key\n",
    "    else:\n",
    "        print(word, \"is not in dictionary\")\n",
    "\n"
   ]
  },
  {
   "cell_type": "markdown",
   "id": "7b879a75",
   "metadata": {},
   "source": [
    "When you write a big or lengthy expression, it may be a good idea to keep it vertically aligned. This is how you can make your code more readable and more programmer-friendly, e.g.\n",
    "\n",
    "This kind of formatting is called a **hanging indent**"
   ]
  },
  {
   "cell_type": "code",
   "execution_count": null,
   "id": "3624760c",
   "metadata": {},
   "outputs": [],
   "source": [
    "# Example 1:\n",
    "dictionary = {\n",
    "              \"cat\": \"chat\",\n",
    "              \"dog\": \"chien\",\n",
    "              \"horse\": \"cheval\"\n",
    "}\n",
    "# Example 2:\n",
    "phone_numbers = {'boss': 5551234567,\n",
    "              'Suzy': 22657854310\n",
    "}\n",
    "\n"
   ]
  },
  {
   "cell_type": "markdown",
   "id": "42db5a61",
   "metadata": {},
   "source": [
    "## 4.6.4 Dictionary methods and functions\n",
    "\n",
    "#### The keys() method\n",
    "\n",
    "Can dictionaries be **browsed** using the `for` loop, like lists or tuples?\n",
    "\n",
    "No and yes.\n",
    "\n",
    "No, because a dictionary is **not a sequence type** − the `for` loop is useless with it.\n",
    "\n",
    "Yes, because there are simple and very effective tools that can **adapt any dictionary to the `for` loop requirements** (in other words, building an intermediate link between the dictionary and a temporary sequence entity).\n",
    "\n",
    "The first of them is a method named `keys()`, possessed by each dictionary. The method **returns an iterable object consisting of all the keys gathered within the dictionary**. Having a group of keys enables you to access the whole dictionary in an easy and handy way.\n",
    "\n",
    "Just like here:"
   ]
  },
  {
   "cell_type": "code",
   "execution_count": null,
   "id": "4e76fbb4",
   "metadata": {},
   "outputs": [],
   "source": [
    "dictionary = {\"cat\": \"chat\", \"dog\": \"chien\", \"horse\": \"cheval\"}\n",
    "\n",
    "for key in dictionary.keys(): #.keys() method of dictionary\n",
    "    print(key, \"->\", dictionary[key])\n",
    "\n"
   ]
  },
  {
   "cell_type": "markdown",
   "id": "c8a4924f",
   "metadata": {},
   "source": [
    "Let's now have a look at a dictionary method called `items()`. The method **returns tuples** (this is the first example where tuples are something more than just an example of themselves) **where each tuple is a key-value pair**.\n",
    "\n",
    "This is how it works:\n",
    "\n",
    "### Note: key-value = tuple; items() creates a tuple for a key-value pair"
   ]
  },
  {
   "cell_type": "code",
   "execution_count": null,
   "id": "4e316ee0",
   "metadata": {},
   "outputs": [],
   "source": [
    "dictionary = {\"cat\": \"chat\", \"dog\": \"chien\", \"horse\": \"cheval\"}\n",
    "\n",
    "for english, french in dictionary.items(): \n",
    "    print(english, \"->\", french)\n",
    "\n",
    "#Output \n",
    "# cat -> chat\n",
    "# dog -> chien\n",
    "# horse -> cheval\n",
    "\n",
    "car = {\n",
    "  \"brand\": \"Ford\",\n",
    "  \"model\": \"Mustang\",\n",
    "  \"year\": 1964\n",
    "}\n",
    "\n",
    "x = car.items()\n",
    "\n",
    "car[\"year\"] = 2018\n",
    "\n",
    "print(x)\n",
    "\n",
    "# Output\n",
    "# dict_items([('brand', 'Ford'), ('model', 'Mustang'), ('year', 2018)])"
   ]
  },
  {
   "cell_type": "markdown",
   "id": "a719146e",
   "metadata": {},
   "source": [
    "### Methods"
   ]
  },
  {
   "cell_type": "code",
   "execution_count": null,
   "id": "7b1c09d9",
   "metadata": {},
   "outputs": [],
   "source": [
    "dictionary = {\"cat\": \"chat\", \"dog\": \"chien\", \"horse\": \"cheval\"}\n",
    "\n",
    "print(\" items()\")\n",
    "for english, french in dictionary.items(): #items() method\n",
    "    print(english, \"->\", french)\n",
    "print(\"\\n\",\"keys() + value\")\n",
    "    \n",
    "for key in dictionary.keys(): #.keys() method\n",
    "    print(key, \"->\", dictionary[key])\n",
    "print(\"\\n\",\"values()\")\n",
    "\n",
    "for french in dictionary.values(): #values\n",
    "    print(french)\n",
    "print(\"\\n\",\"keys()\")\n",
    "\n",
    "for key in sorted(dictionary.keys()): #sorted() method\n",
    "    print(key)\n",
    "print(\"\\n\")\n"
   ]
  },
  {
   "cell_type": "markdown",
   "id": "f8168495",
   "metadata": {},
   "source": [
    "### Adding and adjusting"
   ]
  },
  {
   "cell_type": "code",
   "execution_count": null,
   "id": "899eb222",
   "metadata": {},
   "outputs": [],
   "source": [
    "#Change a value of a key: dictionary[\"keyname\"] = \"new_value\"\n",
    "dictionary[\"cat\"] = \"minou\"\n",
    "print(dictionary)\n",
    "\n",
    "#Adding a new key-value pair: dictionary[new_key] = \"value_of_new_key\"\n",
    "dictionary[\"swan\"] = \"cygne\"\n",
    "\n",
    "#Update method: dictionary.update({\"key\": \"value\"})\n",
    "dictionary.update({\"duck\": \"canard\"})"
   ]
  },
  {
   "cell_type": "markdown",
   "id": "342e7ecf",
   "metadata": {},
   "source": [
    "### Removing a key\n",
    "\n",
    "Note: removing a key will always cause the **removal of the associated value. Values cannot exist without their keys**.\n",
    "\n",
    "This is done with the `del` instruction."
   ]
  },
  {
   "cell_type": "code",
   "execution_count": null,
   "id": "bb59c45b",
   "metadata": {},
   "outputs": [],
   "source": [
    "dictionary = {\"cat\": \"chat\", \"dog\": \"chien\", \"horse\": \"cheval\"}\n",
    " \n",
    "del dictionary['dog']\n",
    "print(dictionary)\n",
    "\n",
    "#popitem() Method: removes the last item of a dictionary\n",
    "dictionary.popitem()"
   ]
  },
  {
   "cell_type": "markdown",
   "id": "691eb189",
   "metadata": {},
   "source": [
    "## 4.6.5 Tuples and dictionaries can work together\n",
    "\n",
    "Let's imagine the following problem:\n",
    "\n",
    "- you need a program to evaluate the students' average scores;\n",
    "- the program should ask for the student's name, followed by her/his single score;\n",
    "- the names may be entered in any order;\n",
    "- entering an empty name finishes the inputting of the data (note 1: entering an empty score will raise the `ValueError` - exception, but don't worry about that now, you'll see how to handle such cases when we talk about exceptions in the second part of the Python Essentials course series)\n",
    "- a list of all names, together with the evaluated average score, should be then emitted."
   ]
  },
  {
   "cell_type": "code",
   "execution_count": null,
   "id": "7038df58",
   "metadata": {},
   "outputs": [],
   "source": [
    "\n",
    "school_class = {}\n",
    "\n",
    "while True:\n",
    "    name = input(\"Enter the student's name: \")\n",
    "    if name == '':\n",
    "        break\n",
    "    \n",
    "    score = int(input(\"Enter the student's score (0-10): \"))\n",
    "    if score not in range(0, 11):\n",
    "        break\n",
    "    \n",
    "    if name in school_class:\n",
    "        school_class[name] += (score,)\n",
    "    else:\n",
    "        school_class[name] = (score,)\n",
    "        \n",
    "for name in sorted(school_class.keys()):\n",
    "    adding = 0\n",
    "    counter = 0\n",
    "    for score in school_class[name]:\n",
    "        adding += score\n",
    "        counter += 1\n",
    "    print(name, \":\", adding / counter)"
   ]
  },
  {
   "cell_type": "markdown",
   "id": "120cb577",
   "metadata": {},
   "source": [
    "Now, let's analyze it line by line:\n",
    "\n",
    "- **line 1**: create an empty dictionary for the input data; the student's name is used as a key, while all the associated scores are stored in a tuple (the tuple may be a dictionary value - that's not a problem at all)\n",
    "- **line 3**: enter an \"infinite\" loop (don't worry, it'll break at the right moment)\n",
    "- **line 4**: read the student's name here;\n",
    "- **line 5-6**: if the name is an empty string (), leave the loop;\n",
    "- **line 8**: ask for one of the student's scores (an integer from the range 0-10)\n",
    "- **line 9-10**: if the score entered is not within the range from 0 to 10, leave the loop;\n",
    "- **line 12-13**: if the student's name is already in the dictionary, lengthen the associated tuple with the new score (note the += operator)\n",
    "- **line 14-15**: if this is a new student (unknown to the dictionary), create a new entry - its value is a one-element tuple containing the entered score;\n",
    "- **line 17**: iterate through the sorted students' names;\n",
    "- **line 18-19**: initialize the data needed to evaluate the average (sum and counter)\n",
    "- **line 20-22**: we iterate through the tuple, taking all the subsequent scores and updating the sum, together with the counter;\n",
    "- **line 23**: evaluate and print the student's name and average score."
   ]
  },
  {
   "cell_type": "markdown",
   "id": "3d8efa4c",
   "metadata": {},
   "source": [
    "## 4.6.6 SECTION SUMMARY\n",
    "\n",
    "### Key takeaways: tuples\n",
    "\n",
    "1. **Tuples** are ordered and unchangeable (immutable) collections of data. They can be thought of as immutable lists. They are written in round brackets:"
   ]
  },
  {
   "cell_type": "code",
   "execution_count": null,
   "id": "f2bce898",
   "metadata": {},
   "outputs": [],
   "source": [
    "my_tuple = (1, 2, True, \"a string\", (3, 4), [5, 6], None)\n",
    "print(my_tuple)\n",
    "\n",
    "my_list = [1, 2, True, \"a string\", (3, 4), [5, 6], None]\n",
    "print(my_list)\n",
    "\n",
    "# Each tuple element may be of a different type"
   ]
  },
  {
   "cell_type": "code",
   "execution_count": null,
   "id": "a5cde9ec",
   "metadata": {},
   "outputs": [],
   "source": [
    "# If you remove the comma, you will tell Python to create a **variable**, not a tuple.\n",
    "\n",
    "my_tuple_1 = 1, \n",
    "print(type(my_tuple_1))    # outputs: <class 'tuple'>\n",
    "\n",
    "my_tuple_2 = 1             # This is not a tuple.\n",
    "print(type(my_tuple_2))    # outputs: <class 'int'>\n",
    "\n",
    "# Access tuples like lists\n",
    "my_tuple = (1, 2.0, \"string\", [3, 4], (5, ), True)\n",
    "print(my_tuple[3])    # outputs: [3, 4]"
   ]
  },
  {
   "cell_type": "markdown",
   "id": "50342f1e",
   "metadata": {},
   "source": [
    "5. Tuples are **immutable**, which means you cannot change their elements (you cannot append tuples, or modify, or remove tuple elements). The following snippet will cause an exception:"
   ]
  },
  {
   "cell_type": "code",
   "execution_count": null,
   "id": "3da04dc2",
   "metadata": {},
   "outputs": [],
   "source": [
    "my_tuple = (1, 2.0, \"string\", [3, 4], (5, ), True)\n",
    "my_tuple[2] = \"guitar\"    # The TypeError exception will be raised.\n",
    "\n",
    "#BUT, you can delete tuples:\n",
    "my_tuple = 1, 2, 3,\n",
    "del my_tuple\n",
    "print(my_tuple)    # NameError: name 'my_tuple' is not defined\n"
   ]
  },
  {
   "cell_type": "markdown",
   "id": "14322caa",
   "metadata": {},
   "source": [
    "6. You can loop through a tuple elements (Example 1), check if a specific element is (not)present in a tuple (Example 2), use the `len()` function to check how many elements there are in a tuple (Example 3), or even join/multiply tuples (Example 4):"
   ]
  },
  {
   "cell_type": "code",
   "execution_count": null,
   "id": "b3f16644",
   "metadata": {},
   "outputs": [],
   "source": [
    "# Example 1\n",
    "tuple_1 = (1, 2, 3)\n",
    "for elem in tuple_1:\n",
    "    print(elem)\n",
    "\n",
    "# Example 2\n",
    "tuple_2 = (1, 2, 3, 4)\n",
    "print(5 in tuple_2)\n",
    "print(5 not in tuple_2)\n",
    "\n",
    "# Example 3\n",
    "tuple_3 = (1, 2, 3, 4)\n",
    "print(len(tuple_3))\n",
    "print(5 not in tuple_3)\n",
    "# Example 4\n",
    "tuple_4 = tuple_1 + tuple_2\n",
    "tuple_5 = tuple_3 * 2\n",
    "\n",
    "print(tuple_4)\n",
    "print(tuple_5)"
   ]
  },
  {
   "cell_type": "markdown",
   "id": "d05ef60a",
   "metadata": {},
   "source": [
    "`EXTRA`  \n",
    "You can also create a tuple using a Python built-in function called `tuple()`. This is particularly useful when you want to convert a certain iterable (e.g., a list, range, string, etc.) to a tuple:"
   ]
  },
  {
   "cell_type": "code",
   "execution_count": null,
   "id": "531a9fbf",
   "metadata": {},
   "outputs": [],
   "source": [
    "my_tuple = tuple((1, 2, \"string\"))\n",
    "print(my_tuple)\n",
    "\n",
    "my_list = [2, 4, 6]\n",
    "print(my_list)    # outputs: [2, 4, 6]\n",
    "print(type(my_list))    # outputs: <class 'list'>\n",
    "tup = tuple(my_list)\n",
    "print(tup)    # outputs: (2, 4, 6)\n",
    "print(type(tup))    # outputs: <class 'tuple'>\n",
    "\n"
   ]
  },
  {
   "cell_type": "markdown",
   "id": "c7292602",
   "metadata": {},
   "source": [
    "By the same fashion, when you want to convert an iterable to a list, you can use a Python built-in function called `list()`:"
   ]
  },
  {
   "cell_type": "code",
   "execution_count": null,
   "id": "18ad94c0",
   "metadata": {},
   "outputs": [],
   "source": [
    "tup = 1, 2, 3,\n",
    "print(type(tup))\n",
    "my_list = list(tup)\n",
    "print(type(my_list))    # outputs: <class 'list'>\n",
    "\n"
   ]
  },
  {
   "cell_type": "markdown",
   "id": "267f3852",
   "metadata": {},
   "source": [
    "### Key takeaways: dictionaries\n",
    "\n",
    "1. Dictionaries are unordered*, changeable (mutable), and indexed collections of data. (*Since Python 3.6x dictionaries have become ordered by default.)\n",
    "\n",
    "2. If you want to access a dictionary item, you can do so by making a reference to its key inside a pair of square brackets (ex. 1) or by using the `get()` method (ex. 2):"
   ]
  },
  {
   "cell_type": "code",
   "execution_count": null,
   "id": "b55a7670",
   "metadata": {},
   "outputs": [],
   "source": [
    "pol_eng_dictionary = {\n",
    "    \"kwiat\": \"flower\",\n",
    "    \"woda\": \"water\",\n",
    "    \"gleba\": \"soil\"\n",
    "    }\n",
    "\n",
    "item_1 = pol_eng_dictionary[\"gleba\"]    # ex. 1\n",
    "print(item_1)    # outputs: soil\n",
    "\n",
    "item_2 = pol_eng_dictionary.get(\"woda\")    # ex. 2\n",
    "print(item_2)    # outputs: water\n",
    "\n",
    "#----------------------------------------------------------------\n",
    "\n",
    "phonebook = {}    # an empty dictionary\n",
    "\n",
    "phonebook[\"Adam\"] = 3456783958    # create/add a key-value pair\n",
    "print(phonebook)    # outputs: {'Adam': 3456783958}\n",
    "\n",
    "del phonebook[\"Adam\"]\n",
    "print(phonebook)    # outputs: {}"
   ]
  },
  {
   "cell_type": "markdown",
   "id": "677cbc5a",
   "metadata": {},
   "source": [
    "### update() Method and its advantages\n",
    "\n",
    "**Merging Dictionaries**: If you have two dictionaries and you want to combine their contents into one dictionary, \n",
    "you can use the `update()` method to merge them. \n",
    "This is more concise and readable than manually iterating over one dictionary and adding each key-value pair to the other."
   ]
  },
  {
   "cell_type": "code",
   "execution_count": null,
   "id": "1eeb0234",
   "metadata": {},
   "outputs": [],
   "source": [
    "dict1 = {\"a\": 1, \"b\": 2}\n",
    "dict2 = {\"c\": 3, \"d\": 4}\n",
    "dict1.update(dict2)\n",
    "print(dict1)  # Output: {'a': 1, 'b': 2, 'c': 3, 'd': 4}"
   ]
  },
  {
   "cell_type": "markdown",
   "id": "3a900b37",
   "metadata": {},
   "source": [
    "**Updating Existing Keys**: If the key being added via `update()` already exists in the dictionary, its value will be updated. This is useful if you want to update multiple values in a dictionary without overwriting the entire dictionary."
   ]
  },
  {
   "cell_type": "code",
   "execution_count": null,
   "id": "1c090ff8",
   "metadata": {},
   "outputs": [],
   "source": [
    "dict1 = {\"a\": 1, \"b\": 2}\n",
    "dict2 = {\"b\": 3, \"c\": 4}\n",
    "dict1.update(dict2)\n",
    "print(dict1)  # Output: {'a': 1, 'b': 3, 'c': 4}"
   ]
  },
  {
   "cell_type": "markdown",
   "id": "37383dd4",
   "metadata": {},
   "source": [
    "**Iterable of Key-Value Pairs**: The `update()` method can take an iterable (such as a list of tuples) containing key-value pairs to add to the dictionary. This provides flexibility in adding multiple items at once."
   ]
  },
  {
   "cell_type": "code",
   "execution_count": null,
   "id": "2cc0d659",
   "metadata": {},
   "outputs": [],
   "source": [
    "dict1 = {\"a\": 1, \"b\": 2}\n",
    "items_to_add = [(\"c\", 3), (\"d\", 4)]\n",
    "dict1.update(items_to_add)\n",
    "print(dict1)  # Output: {'a': 1, 'b': 2, 'c': 3, 'd': 4}"
   ]
  },
  {
   "cell_type": "markdown",
   "id": "0bcf7442",
   "metadata": {},
   "source": [
    "### Search dictionaries\n",
    "\n",
    "#### - A `for()` loop will return the key names\n",
    "\n",
    "#### - The `items()` method will loop through the key-value pairs\n",
    "\n",
    "#### - To check if a key exists at all, use `in`"
   ]
  },
  {
   "cell_type": "code",
   "execution_count": null,
   "id": "2d62f0c6",
   "metadata": {},
   "outputs": [],
   "source": [
    "pol_eng_dictionary = {\n",
    "    \"zamek\": \"castle\",\n",
    "    \"woda\": \"water\",\n",
    "    \"gleba\": \"soil\"\n",
    "    }\n",
    "\n",
    "for item in pol_eng_dictionary:\n",
    "    print(item)\n",
    "#          zamek\n",
    "#          woda\n",
    "#          gleba"
   ]
  },
  {
   "cell_type": "code",
   "execution_count": null,
   "id": "55ed3368",
   "metadata": {},
   "outputs": [],
   "source": [
    "pol_eng_dictionary = {\n",
    "    \"zamek\": \"castle\",\n",
    "    \"woda\": \"water\",\n",
    "    \"gleba\": \"soil\"\n",
    "    }\n",
    "\n",
    "for key, value in pol_eng_dictionary.items():\n",
    "    print(\"Pol/Eng ->\", key, \":\", value)"
   ]
  },
  {
   "cell_type": "code",
   "execution_count": null,
   "id": "c4ae8bb6",
   "metadata": {},
   "outputs": [],
   "source": [
    "pol_eng_dictionary = {\n",
    "    \"zamek\": \"castle\",\n",
    "    \"woda\": \"water\",\n",
    "    \"gleba\": \"soil\"\n",
    "    }\n",
    "\n",
    "if \"zamek\" in pol_eng_dictionary:\n",
    "    print(\"Yes\")\n",
    "else:\n",
    "    print(\"No\")"
   ]
  },
  {
   "cell_type": "markdown",
   "id": "f58c9fd0",
   "metadata": {},
   "source": [
    "8. You can use the `del` keyword to remove a specific item, or delete a dictionary. To remove all the dictionary's items, you need to use the `clear()` method:"
   ]
  },
  {
   "cell_type": "code",
   "execution_count": null,
   "id": "b064f6d2",
   "metadata": {},
   "outputs": [],
   "source": [
    "pol_eng_dictionary = {\n",
    "    \"zamek\": \"castle\",\n",
    "    \"woda\": \"water\",\n",
    "    \"gleba\": \"soil\"\n",
    "    }\n",
    "\n",
    "print(len(pol_eng_dictionary))    # outputs: 3\n",
    "del pol_eng_dictionary[\"zamek\"]    # remove an item\n",
    "print(len(pol_eng_dictionary))    # outputs: 2\n",
    "\n",
    "pol_eng_dictionary.clear()   # removes all the items\n",
    "print(len(pol_eng_dictionary))    # outputs: 0\n",
    "\n",
    "del pol_eng_dictionary    # removes the dictionary\n",
    "\n",
    "# To copy a dictionary, use \"copy()\"\n",
    "pol_eng_dictionary = {\n",
    "    \"zamek\": \"castle\",\n",
    "    \"woda\": \"water\",\n",
    "    \"gleba\": \"soil\"\n",
    "    }\n",
    "\n",
    "copy_dictionary = pol_eng_dictionary.copy()"
   ]
  },
  {
   "cell_type": "code",
   "execution_count": null,
   "id": "eaec3605",
   "metadata": {},
   "outputs": [],
   "source": [
    "tup = 1, 2, 3\n",
    "a, b, c = tup\n",
    "\n",
    "print(a * b * c)\n",
    "\n",
    "# The program will print 6 to the screen. The tup tuple elements have been \"unpacked\" in the a, b, and c variables."
   ]
  },
  {
   "cell_type": "markdown",
   "id": "f1725202",
   "metadata": {},
   "source": [
    "**Question 3**: Complete the code to correctly use the `count()` method to find the number of duplicates of 2 in the following tuple."
   ]
  },
  {
   "cell_type": "code",
   "execution_count": null,
   "id": "a5a40cd8",
   "metadata": {},
   "outputs": [],
   "source": [
    "tup = 1, 2, 3, 2, 4, 5, 6, 2, 7, 2, 8, 9\n",
    "duplicates = tup.count(2)\n",
    "\n",
    "print(duplicates)    # outputs: 4"
   ]
  },
  {
   "cell_type": "markdown",
   "id": "e33cbc3e",
   "metadata": {},
   "source": [
    "**Question 4**: Write a program that will \"glue\" the two dictionaries (`d1` and `d2`) together and create a new one (`d3`)."
   ]
  },
  {
   "cell_type": "code",
   "execution_count": null,
   "id": "b7e13648",
   "metadata": {},
   "outputs": [],
   "source": [
    "d1 = {'Adam Smith': 'A', 'Judy Paxton': 'B+'}\n",
    "d2 = {'Mary Louis': 'A', 'Patrick White': 'C'}\n",
    "d3 = {}\n",
    "\n",
    "for item in (d1, d2):\n",
    "    d3.update(item)\n",
    "\n",
    "print(d3)"
   ]
  },
  {
   "cell_type": "markdown",
   "id": "521b914a",
   "metadata": {},
   "source": [
    "**Question 6**: Write a program that will convert the `colors` tuple to a dictionary."
   ]
  },
  {
   "cell_type": "code",
   "execution_count": null,
   "id": "a53393a8",
   "metadata": {},
   "outputs": [],
   "source": [
    "colors = ((\"green\", \"#008000\"), (\"blue\", \"#0000FF\"))\n",
    "\n",
    "colors_dictionary = dict(colors)\n",
    "print(colors_dictionary)"
   ]
  },
  {
   "cell_type": "code",
   "execution_count": null,
   "id": "6ce54bb1",
   "metadata": {},
   "outputs": [],
   "source": [
    "colors = {\n",
    "    \"white\": (255, 255, 255),\n",
    "    \"grey\": (128, 128, 128),\n",
    "    \"red\": (255, 0, 0),\n",
    "    \"green\": (0, 128, 0)\n",
    "    }\n",
    "\n",
    "for col, rgb in colors.items():\n",
    "    print(col, \":\", rgb)"
   ]
  },
  {
   "cell_type": "markdown",
   "id": "48800479",
   "metadata": {},
   "source": [
    "## 4.7.1 Errors – the developer's daily bread\n",
    "\n",
    "### Errors in data vs. errors in code"
   ]
  },
  {
   "cell_type": "code",
   "execution_count": null,
   "id": "65f63a18",
   "metadata": {},
   "outputs": [],
   "source": [
    "value = int(input('Enter a natural number: '))\n",
    "print('The reciprocal of', value, 'is', 1/value)\n",
    "\n",
    "# If no int given:\n",
    "# Traceback (most recent call last):\n",
    "   # File \"code.py\", line 1, in\n",
    "    # value = int(input('Enter a natural number: '))\n",
    "# ValueError: invalid literal for int() with base 10: ''"
   ]
  },
  {
   "cell_type": "markdown",
   "id": "8d9c1a0f",
   "metadata": {},
   "source": [
    "The first word in the line is the name of the exception which causes your code to stop. It's `ValueError` here. The rest of the line is just a brief explanation which more precisely specifies the cause of the occurred exception.\n",
    "\n",
    "You should already be able to implement this check and write it yourself, shouldn’t you? It is also possible to check if the `value` variable's type is an `int` (Python has a special means for these kinds of checks – it's an operator named `is`. The check itself may look like this:\n",
    "\n",
    "\n",
    "`type(value) is int`\n",
    " \n",
    "and evaluates to `true` if the current value variable's type is `int`.\n",
    "\n",
    "Please forgive us if we don't spend any more time on it now – you will find more detailed explanations of the `is` operator in a course module devoted to Object-Oriented Programming.\n",
    "\n",
    "You may be surprised to learn that we don't want you to do any preliminary data validation. Why? Because this is not the way Python recommends. **Really**."
   ]
  },
  {
   "cell_type": "markdown",
   "id": "09aef485",
   "metadata": {},
   "source": [
    "## 4.7.3 The try-except branch\n",
    "\n",
    "In the Python world, there is a rule that says: **\"It’s better to beg for forgiveness than to ask for permission\"**.\n",
    "\n",
    "Actually, the rule reads: **\"it's better to handle an error when it happens than to try to avoid it\"**."
   ]
  },
  {
   "cell_type": "code",
   "execution_count": null,
   "id": "0390cecf",
   "metadata": {},
   "outputs": [],
   "source": [
    "try:\n",
    "\t# It's a place where\n",
    "\t# you can do something \n",
    "    # without asking for permission.\n",
    "except:\n",
    "\t# It's a spot dedicated to \n",
    "    # solemnly begging for forgiveness."
   ]
  },
  {
   "cell_type": "markdown",
   "id": "a7a40a39",
   "metadata": {},
   "source": [
    "You can see two branches here:\n",
    "\n",
    "- first, starting with the `try` keyword – this is the place where you put the code you suspect is risky and may be terminated in case of error; note: this kind of error is called an exception, while the exception occurrence is called raising – we can say that an exception is (or was) raised;\n",
    "- second, the part of the code starting with the `except` keyword is designed to handle the exception; it's up to you what you want to do here: you can clean up the mess or you can just sweep the problem under the carpet (although we would prefer the first solution).\n",
    "\n",
    "So, we could say that these two blocks work like this:\n",
    "\n",
    "- the `try` keyword marks the place where you try to do something without permission;\n",
    "- the `except` keyword starts a location where you can show off your apology talents."
   ]
  },
  {
   "cell_type": "code",
   "execution_count": null,
   "id": "5000554d",
   "metadata": {},
   "outputs": [],
   "source": [
    "try:\n",
    "    value = int(input('Enter a natural number: '))\n",
    "    print('The reciprocal of', value, 'is', 1/value)        \n",
    "except:\n",
    "    print('I do not know what to do.')"
   ]
  },
  {
   "cell_type": "markdown",
   "id": "c4daae3c",
   "metadata": {},
   "source": [
    "Let us summarize what we talked about:\n",
    "\n",
    "- any part of the code placed between `try` and `except` is executed in a very special way – any error which occurs here won't terminate program execution. Instead, the control will immediately jump to the first line situated after the `except` keyword, and no other part of the `try` branch is executed;\n",
    "- the code in the `except` branch is activated only when an exception has been encountered inside the `try` block. There is no way to get there by any other means;\n",
    "- when either the `try` block or the `except` block is executed successfully, the control returns to the normal path of execution, and any code located beyond in the source file is executed as if nothing happened.\n",
    "\n",
    "Now we want to ask you an innocent question: is `ValueError` the only way the control could fall into the `except` branch?\n",
    "\n",
    "Analyze the code carefully and think over your answer!"
   ]
  },
  {
   "cell_type": "markdown",
   "id": "54f689a0",
   "metadata": {},
   "source": [
    "## 4.7.5 How to deal with more than one exception\n",
    "\n",
    "The answer is obviously \"no\" – there is more than one possible way to raise an exception. For example, a user may enter zero as an input – can you predict what will happen next?\n",
    "\n",
    "Yes, you're right – the division placed inside the `print()` function invocation will raise the `ZeroDivisionError`. As you may expect, the code's behavior will be the same as in the previous case – the user will see the \"I do not know what to do...\" message, which seems to be quite reasonable in this context, but it's also possible that you would want to handle this kind of problem in a bit different way.\n",
    "\n",
    "Is it possible? Of course, it is. There are at least two approaches you can implement here.\n",
    "\n",
    "The first of them is simple and complicated at the same time: you can just add two separate try blocks, one including the `input()` function invocation where the `ValueError` may be raised, and the second devoted to handling possible issues induced by the division. Both these try blocks would have their own `except` branches, and in effect you will gain full control over two different errors.\n",
    "\n",
    "This solution is good, but it is a bit lengthy – the code becomes unnecessarily bloated. Moreover, it's not the only danger that awaits you. Note that leaving the first `try-except` block leaves a lot of uncertainty – you will have to add extra code to ensure that the value the user has entered is safe to use in division. This is how a seemingly simple solution becomes overly complicated.\n",
    "\n",
    "Fortunately, Python offers a simpler way to deal with this kind of challenge."
   ]
  },
  {
   "cell_type": "markdown",
   "id": "eafbf30f",
   "metadata": {},
   "source": [
    "### Two exceptions after one try\n",
    "\n",
    "Look at the code in the editor. As you can see, we've just introduced the second `except` branch. This is not the only difference – note that both branches have exception **names** specified. In this variant, each of the expected exceptions has its own way of handling the error, but it must be emphasized that **only one** of all branches can intercept the control – **if one of the branches is executed, all the other branches remain idle**."
   ]
  },
  {
   "cell_type": "code",
   "execution_count": null,
   "id": "6a83d6e8",
   "metadata": {},
   "outputs": [],
   "source": [
    "try:\n",
    "    value = int(input('Enter a natural number: '))\n",
    "    print('The reciprocal of', value, 'is', 1/value)        \n",
    "except ValueError:\n",
    "    print('I do not know what to do.')    \n",
    "except ZeroDivisionError:\n",
    "    print('Division by zero is not allowed in our Universe.') \n",
    "    \n",
    "# Additionally, the number of except branches is not limited – \n",
    "# you can specify as many or as few of them as you need, \n",
    "# but don't forget that none of the exceptions can be specified more than once."
   ]
  },
  {
   "cell_type": "markdown",
   "id": "82e0b373",
   "metadata": {},
   "source": [
    "## 4.7.6 The default exception and how to use it\n",
    "\n",
    "We've added a third `except` branch, but this time it **has no exception name specified** – we can say it's **anonymous** or (what is closer to its actual role) it's the default. You can expect that when an exception is raised and there is no `except` branch dedicated to this exception, it will be handled by the default branch.\n",
    "\n",
    "#### Note  \n",
    "The default `except` branch must be the last `except` branch. **Always!**"
   ]
  },
  {
   "cell_type": "code",
   "execution_count": null,
   "id": "6443afab",
   "metadata": {},
   "outputs": [],
   "source": [
    "try:\n",
    "    value = int(input('Enter a natural number: '))\n",
    "    print('The reciprocal of', value, 'is', 1/value)        \n",
    "except ValueError:\n",
    "    print('I do not know what to do.')    \n",
    "except ZeroDivisionError:\n",
    "    print('Division by zero is not allowed in our Universe.')    \n",
    "except:\n",
    "    print('Something strange has happened here... Sorry!')"
   ]
  },
  {
   "cell_type": "markdown",
   "id": "4a5bc062",
   "metadata": {},
   "source": [
    "## 4.7.7 Some useful exceptions\n",
    "\n",
    "- Most common exceptions:\n",
    "\n",
    "#### ZeroDivisionError\n",
    "This appears when you try to force Python to perform any operation which provokes division in which the divider is **zero**, or is indistinguishable from zero. Note that there is more than one Python operator which may cause this exception to raise. Can you guess them all?\n",
    "\n",
    "Yes, they are: `/`, `//`, and `%`.\n",
    "\n",
    "```python\n",
    "Traceback (most recent call last):\n",
    "  File \"main.py\", line 1, in\n",
    "    print(1/0)\n",
    "ZeroDivisionError: division by zero\n",
    "```\n",
    "\n",
    "#### ValueError\n",
    "Expect this exception when you're dealing with values which may be inappropriately used in some context. In general, this exception is raised when a function (like `int()` or `float()`) receives an argument of a proper type, but its value is unacceptable.\n",
    "\n",
    "\n",
    "#### TypeError\n",
    "This exception shows up when you try to apply a data whose type cannot be accepted in the current context. Look at the example:\n",
    "\n",
    "\n",
    "```python\n",
    "short_list = [1]\n",
    "\n",
    "one_value = short_list[0.5]\n",
    "```\n",
    " \n",
    "You're not allowed to use a float value as a list index (the same rule applies to tuples, too). `TypeError` is an adequate name to describe the problem, and an adequate exception to raise.\n",
    "\n",
    "\n",
    "#### AttributeError\n",
    "This exception arrives – among other occasions – when you try to activate a method which doesn't exist in an item you're dealing with. For example:\n",
    "    \n",
    "```python\n",
    "\n",
    "short_list = [1]\n",
    "\n",
    "short_list.append(2)\n",
    "\n",
    "short_list.append(3)\n",
    "\n",
    "```\n",
    "\n",
    "\n",
    "\n",
    "The third line of our example attempts to make use of a method which isn't contained in the lists. This is the place where `AttributeError` is raised.\n",
    "\n",
    "\n",
    "#### SyntaxError\n",
    "This exception is raised when the control reaches a line of code which violates Python's grammar. It may sound strange, but some errors of this kind cannot be identified without first running the code. This kind of behavior is typical of interpreted languages – the interpreter always works in a hurry and has no time to scan the whole source code. It is content with checking the code which is currently being run. An example of such a category of issues will be presented very soon.\n",
    "```python\n",
    "File \"main.py\", line 1\n",
    "    print(\"Hello, World!)\n",
    "                       ^            \n",
    "SyntaxError: EOL while scanning string literal\n",
    "```\n",
    "It's a bad idea to handle this exception in your programs. You should produce code that is free of syntax errors, instead of masking the faults you’ve caused."
   ]
  },
  {
   "cell_type": "markdown",
   "id": "a36f52f3",
   "metadata": {},
   "source": [
    "## 4.7.8 Why you can’t avoid testing your code\n",
    "\n",
    "Error handling and testing are crucial in software development. Python's exception handling capabilities are powerful, allowing for robust error handling strategies. Developers must actively seek and address bugs in their code. Testing is essential but doesn't guarantee error-free code; it only reveals existing errors. Objectivity in evaluating code is challenging, highlighting the need for testers. Developers should test thoroughly and consider all possible execution paths."
   ]
  },
  {
   "cell_type": "code",
   "execution_count": null,
   "id": "ba9cf354",
   "metadata": {},
   "outputs": [],
   "source": [
    "try:\n",
    "    # This MUST be in the try statement. If above, it immediately returns error without checking the next line\n",
    "    temperature = float(input('Enter current temperature:')) \n",
    "    if temperature > 0:\n",
    "        print(\"Above zero\")\n",
    "    elif temperature < 0:\n",
    "        print(\"Below zero\")\n",
    "    else:\n",
    "        print(\"Zero\")\n",
    "except ValueError:\n",
    "    print(\"No valid input\")\n",
    "except:\n",
    "    print(\"Something went wrong\")\n",
    "\n",
    "# except (ValueError, ZeroDivisionError): works also    \n",
    "    "
   ]
  },
  {
   "cell_type": "markdown",
   "id": "fd284530",
   "metadata": {},
   "source": [
    "## 4.7.9 When Python closes its eyes\n",
    "\n",
    "- Tests are crucial. The following code shows why."
   ]
  },
  {
   "cell_type": "code",
   "execution_count": null,
   "id": "ee274230",
   "metadata": {},
   "outputs": [],
   "source": [
    "temperature = float(input('Enter current temperature:'))\n",
    "\n",
    "if temperature > 0:\n",
    "    print(\"Above zero\")\n",
    "elif temperature < 0:\n",
    "    prin(\"Below zero\") #prin instead of print, but still works\n",
    "else:\n",
    "    print(\"Zero\")"
   ]
  },
  {
   "cell_type": "markdown",
   "id": "40100672",
   "metadata": {},
   "source": [
    "The answer is simpler than you may expect, and a bit disappointing, too. Python – as you know for sure – is an interpreted language. This means that the source code is parsed and executed at the same time. Consequently, Python may not have time to analyze the code lines which aren't subject to execution. \n",
    "\n",
    "### MAKE USE OF THE PRINT-DEBUGGING TECHNIQUE. AND MAKE SURE TO USE USEFULL STATEMENTS IN THEM (\"Entered Loop\", \"Exited Loop\", etc.)"
   ]
  },
  {
   "cell_type": "markdown",
   "id": "446d5cfc",
   "metadata": {},
   "source": [
    "## 4.7.12 Tips for problems\n",
    "\n",
    "- **Tell someone, or something**: Vocalizing the problem activates parts in the brain that are idle during coding. Act as if you were to explain it to someone not as educated in coding. See **Rubber Duck Debugging**\n",
    "\n",
    "- **Isolate the problem**: \n",
    "    - Separate the code that likely troubles the program\n",
    "    - Assign concrete values instead of reading from input.\n",
    "        - Use simple values of which you easily know the output of\n",
    "        \n",
    "- If the bug just appeared recently, only check changes made recently. That's also why frequent checks and version backups are important.\n",
    "\n",
    "- **Take a break**: Drink, walk, read etc. - helps surprisingly often\n",
    "\n",
    "- **Being optimistic**: Bugs happens to **ALL** programmers. No matter how advanced. Eventually they are solved!"
   ]
  },
  {
   "cell_type": "markdown",
   "id": "f719d29b",
   "metadata": {},
   "source": [
    "## 4.7.13 Unit testing - a higher level of coding\n",
    "\n",
    "As a developer, you'll encounter **unit testing**, a crucial technique in programming. Unit testing assumes that tests are inseparable parts of the code and preparing the test data is an inseparable part of coding. This means that when you write a function or a set of cooperating functions, you're also obliged to create a set of data for which your code's behavior is predictable and known. Python offers the `unittest` module for this purpose, but it's a complex topic."
   ]
  },
  {
   "cell_type": "markdown",
   "id": "696ef46e",
   "metadata": {},
   "source": [
    "## Weird"
   ]
  },
  {
   "cell_type": "markdown",
   "id": "c6ca8072",
   "metadata": {},
   "source": [
    "```python\n",
    "# combination of recursion and exponentials doesn't work?\n",
    "def func_1(a):\n",
    "    return a ** a\n",
    "\n",
    "\n",
    "def func_2(a):\n",
    "    return func_1(a) * func_1(a)\n",
    "\n",
    "\n",
    "print(func_2(2))\n",
    "```\n",
    "\n",
    "- func_1(a) takes a parameter a and returns the result of a raised to the power of a, which is a ** a.\n",
    "\n",
    "- func_2(a) takes a parameter a and returns the result of func_1(a) multiplied by itself, which is func_1(a) * func_1(a).\n",
    "\n",
    "- The code then tries to calculate func_2(2), which in turn calls func_1(2) twice.\n",
    "\n",
    "The issue arises because func_1(2) calculates 2 ** 2, which is 4. However, func_2(2) then tries to calculate func_1(2) * func_1(2), which is 4 * 4, resulting in 16.\n",
    "\n",
    "The confusion might have been caused by the assumption that func_2(2) would calculate func_1(2) only once and then multiply the result by itself. However, in reality, func_1(2) is calculated twice due to the recursion, leading to a different result."
   ]
  },
  {
   "cell_type": "code",
   "execution_count": 8,
   "id": "6b6e1b95",
   "metadata": {},
   "outputs": [
    {
     "name": "stdout",
     "output_type": "stream",
     "text": [
      "2\n"
     ]
    }
   ],
   "source": [
    "tup = (1, 2, 4, 8)\n",
    "tup = tup[1:-1]\n",
    "tup = tup[0]\n",
    "print(tup)\n",
    "\n",
    "\n",
    "\n",
    "\n",
    "\n"
   ]
  },
  {
   "cell_type": "code",
   "execution_count": 20,
   "id": "a57a8034",
   "metadata": {},
   "outputs": [
    {
     "name": "stdout",
     "output_type": "stream",
     "text": [
      "[[1, 2, 3], ['O', 'X', 6], [7, 8, 9]]\n"
     ]
    }
   ],
   "source": []
  }
 ],
 "metadata": {
  "kernelspec": {
   "display_name": "Python 3 (ipykernel)",
   "language": "python",
   "name": "python3"
  },
  "language_info": {
   "codemirror_mode": {
    "name": "ipython",
    "version": 3
   },
   "file_extension": ".py",
   "mimetype": "text/x-python",
   "name": "python",
   "nbconvert_exporter": "python",
   "pygments_lexer": "ipython3",
   "version": "3.9.13"
  }
 },
 "nbformat": 4,
 "nbformat_minor": 5
}
